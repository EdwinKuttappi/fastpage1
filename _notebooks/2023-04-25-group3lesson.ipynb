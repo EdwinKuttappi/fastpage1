{
 "cells": [
  {
   "attachments": {},
   "cell_type": "markdown",
   "metadata": {},
   "source": [
    "# Tri-3-Lesson\n",
    "> Reviewing Data Analysis.\n",
    "- title: Data Analysis Lesson\n",
    "- toc: true\n",
    "- categories: [week31, tri3]\n",
    "- image: /images/.jpg\n",
    "- badges: true\n",
    "- comments: true\n",
    "- author: Edwin Abraham\n",
    "- description: The lesson taught by Group 3 about Data Analysis"
   ]
  },
  {
   "attachments": {},
   "cell_type": "markdown",
   "metadata": {},
   "source": [
    "## What you should Have to Start\n",
    "\n",
    "- Should have wget this file (tri3-lesson.ipynb)\n",
    "- wget this file: https://raw.githubusercontent.com/JoshuaW03628/Repository-1/master/nba_player_statistics.csv\n",
    "- Copy Path from nba_player_statistics.csv and replace prior path for it."
   ]
  },
  {
   "attachments": {},
   "cell_type": "markdown",
   "metadata": {},
   "source": [
    "# Lesson Portion 1: ReIntroduction to Data Analysis, NunPy, and Pandas, Why is it important?"
   ]
  },
  {
   "attachments": {},
   "cell_type": "markdown",
   "metadata": {},
   "source": [
    "### Data Analysis."
   ]
  },
  {
   "attachments": {},
   "cell_type": "markdown",
   "metadata": {},
   "source": [
    "- Data Analysis is the process of examining data sets in order to find trends and draw conclusions about the given information. Data analysis is important because it helps businesses optimize their performances."
   ]
  },
  {
   "attachments": {},
   "cell_type": "markdown",
   "metadata": {},
   "source": [
    "### What is NunPy and Pandas"
   ]
  },
  {
   "attachments": {},
   "cell_type": "markdown",
   "metadata": {},
   "source": [
    "- Pandas library involves a lot of data analysis in Python. NumPy Library is mostly used for working with numerical values and it makes it easy to apply with mathematical functions. \n",
    "- Imagine you have a lot of toys, but they are all mixed up in a big box. NumPy helps you to put all the same types of toys together, like all the cars in one pile and all the dolls in another.\n",
    "Pandas is like a helper that helps you to remember where each toy is located. So, if you want to find a specific toy, like a red car, you can ask Pandas to find it for you.\n",
    "- Just like how it's easier to find a toy when they are sorted and organized, it's easier for grown-ups to understand and analyze big sets of numbers when they use NumPy and Pandas.\n"
   ]
  },
  {
   "attachments": {},
   "cell_type": "markdown",
   "metadata": {},
   "source": [
    "# Lesson Portion 2 More into NunPy\n",
    "\n",
    "### What we are covering;\n",
    "\n",
    "- Explanation of NumPy and its uses in data analysis\n",
    "- Importing NumPy library\n",
    "- Examining NumPy arrays\n",
    "- Creating NumPy arrays and performing intermediate array operations\n",
    "- Popcorn Hacks, Make your own percentile NunPy array"
   ]
  },
  {
   "attachments": {},
   "cell_type": "markdown",
   "metadata": {},
   "source": [
    "#### What is NunPy's use in data analysis/ how to import NunPy."
   ]
  },
  {
   "attachments": {},
   "cell_type": "markdown",
   "metadata": {},
   "source": [
    "NumPy is a tool in Python that helps with doing math and data analysis. It's great for working with large amounts of data, like numbers in a spreadsheet. NumPy is really good at doing calculations quickly and accurately, like finding averages, doing algebra, and making graphs. It's used a lot by scientists and people who work with data because it makes their work easier and faster."
   ]
  },
  {
   "cell_type": "code",
   "execution_count": 7,
   "metadata": {},
   "outputs": [],
   "source": [
    "import numpy as np"
   ]
  },
  {
   "attachments": {},
   "cell_type": "markdown",
   "metadata": {},
   "source": [
    "### List of NunPy Functions, what they do, and examples.\n",
    "\n",
    "- Link; https://www.educba.com/numpy-functions/\n",
    "\n"
   ]
  },
  {
   "attachments": {},
   "cell_type": "markdown",
   "metadata": {},
   "source": [
    "### Example of Using NunPy in Our Project"
   ]
  },
  {
   "attachments": {},
   "cell_type": "markdown",
   "metadata": {},
   "source": [
    "This code calculates the total plate appearances for a baseball player using NumPy's sum() function, similar to the original example. It then uses NumPy to calculate the total number of bases (hits plus walks) for the player, and divides that by the total number of plate appearances to get the on-base percentage. The results are then printed to the console."
   ]
  },
  {
   "cell_type": "code",
   "execution_count": 8,
   "metadata": {},
   "outputs": [
    {
     "name": "stdout",
     "output_type": "stream",
     "text": [
      "Total plate appearances: 21\n",
      "On-base percentage: 0.857\n"
     ]
    }
   ],
   "source": [
    "import numpy as np\n",
    "\n",
    "# Example data\n",
    "player_hits = np.array([3, 1, 2, 0, 1, 2, 1, 2])  # Player's hits in each game\n",
    "player_walks = np.array([1, 0, 0, 1, 2, 1, 1, 0])  # Player's walks in each game\n",
    "player_strikeouts = np.array([2, 1, 0, 2, 1, 1, 0, 1])  # Player's strikeouts in each game\n",
    "\n",
    "# array to store plate appearances (PA) for the player\n",
    "total_pa = np.sum(player_hits != 0) + np.sum(player_walks) + np.sum(player_strikeouts)\n",
    "\n",
    "# array to store on-base percentage (OBP) for the player\n",
    "total_bases = np.sum(player_hits) + np.sum(player_walks)\n",
    "obp = total_bases / total_pa\n",
    "\n",
    "# Print the total plate appearances and on-base percentage for the player\n",
    "print(f\"Total plate appearances: {total_pa}\")\n",
    "print(f\"On-base percentage: {obp:.3f}\")\n"
   ]
  },
  {
   "attachments": {},
   "cell_type": "markdown",
   "metadata": {},
   "source": [
    "## Activity 1; PopCorn Hacks; Creating a NunPy Array and Analyzing the Data using Array Operations"
   ]
  },
  {
   "cell_type": "code",
   "execution_count": 9,
   "metadata": {},
   "outputs": [
    {
     "name": "stdout",
     "output_type": "stream",
     "text": [
      "The 25th percentile height is 192.5 cm.\n",
      "The 50th percentile height is 198.0 cm.\n",
      "The 75th percentile height is 202.0 cm.\n",
      "There are 2 players in the top 10% tallest.\n"
     ]
    }
   ],
   "source": [
    "import numpy as np\n",
    "\n",
    "#Create a NumPy array of the heights of players in a basketball team\n",
    "heights = np.array([192, 195, 193, 200, 211, 199, 201, 198, 184, 190, 196, 203, 208, 182, 207])\n",
    "\n",
    "# Calculate the percentile rank of each player's height\n",
    "percentiles = np.percentile(heights, [25, 50, 75])\n",
    "\n",
    "# Print the results\n",
    "print(\"The 25th percentile height is\", percentiles[0], \"cm.\")\n",
    "print(\"The 50th percentile height is\", percentiles[1], \"cm.\")\n",
    "print(\"The 75th percentile height is\", percentiles[2], \"cm.\")\n",
    "\n",
    "# Determine the number of players who are in the top 10% tallest\n",
    "top_10_percent = np.percentile(heights, 90)\n",
    "tallest_players = heights[heights >= top_10_percent]\n",
    "\n",
    "print(\"There are\", len(tallest_players), \"players in the top 10% tallest.\")\n"
   ]
  },
  {
   "cell_type": "code",
   "execution_count": 10,
   "metadata": {},
   "outputs": [
    {
     "ename": "IndexError",
     "evalue": "index -1 is out of bounds for axis 0 with size 0",
     "output_type": "error",
     "traceback": [
      "\u001b[0;31m---------------------------------------------------------------------------\u001b[0m",
      "\u001b[0;31mIndexError\u001b[0m                                Traceback (most recent call last)",
      "\u001b[1;32m/home/edwin/vscode/fastpage1/_notebooks/2023-04-25-group3lesson.ipynb Cell 18\u001b[0m in \u001b[0;36m<cell line: 9>\u001b[0;34m()\u001b[0m\n\u001b[1;32m      <a href='vscode-notebook-cell://wsl%2Bubuntu/home/edwin/vscode/fastpage1/_notebooks/2023-04-25-group3lesson.ipynb#X23sdnNjb2RlLXJlbW90ZQ%3D%3D?line=5'>6</a>\u001b[0m x \u001b[39m=\u001b[39m np\u001b[39m.\u001b[39marray([])\n\u001b[1;32m      <a href='vscode-notebook-cell://wsl%2Bubuntu/home/edwin/vscode/fastpage1/_notebooks/2023-04-25-group3lesson.ipynb#X23sdnNjb2RlLXJlbW90ZQ%3D%3D?line=7'>8</a>\u001b[0m \u001b[39m# Calculate the percentile rank of x\u001b[39;00m\n\u001b[0;32m----> <a href='vscode-notebook-cell://wsl%2Bubuntu/home/edwin/vscode/fastpage1/_notebooks/2023-04-25-group3lesson.ipynb#X23sdnNjb2RlLXJlbW90ZQ%3D%3D?line=8'>9</a>\u001b[0m y \u001b[39m=\u001b[39m np\u001b[39m.\u001b[39;49mpercentile(x, [\u001b[39m1\u001b[39;49m,\u001b[39m2\u001b[39;49m,\u001b[39m3\u001b[39;49m])\n\u001b[1;32m     <a href='vscode-notebook-cell://wsl%2Bubuntu/home/edwin/vscode/fastpage1/_notebooks/2023-04-25-group3lesson.ipynb#X23sdnNjb2RlLXJlbW90ZQ%3D%3D?line=10'>11</a>\u001b[0m \u001b[39m# Print the results\u001b[39;00m\n\u001b[1;32m     <a href='vscode-notebook-cell://wsl%2Bubuntu/home/edwin/vscode/fastpage1/_notebooks/2023-04-25-group3lesson.ipynb#X23sdnNjb2RlLXJlbW90ZQ%3D%3D?line=11'>12</a>\u001b[0m \u001b[39mprint\u001b[39m(\u001b[39m\"\u001b[39m\u001b[39m\"\u001b[39m, percentiles[\u001b[39m0\u001b[39m], \u001b[39m\"\u001b[39m\u001b[39m\"\u001b[39m)\n",
      "File \u001b[0;32m<__array_function__ internals>:5\u001b[0m, in \u001b[0;36mpercentile\u001b[0;34m(*args, **kwargs)\u001b[0m\n",
      "File \u001b[0;32m~/anaconda3/lib/python3.9/site-packages/numpy/lib/function_base.py:3867\u001b[0m, in \u001b[0;36mpercentile\u001b[0;34m(a, q, axis, out, overwrite_input, interpolation, keepdims)\u001b[0m\n\u001b[1;32m   3865\u001b[0m \u001b[39mif\u001b[39;00m \u001b[39mnot\u001b[39;00m _quantile_is_valid(q):\n\u001b[1;32m   3866\u001b[0m     \u001b[39mraise\u001b[39;00m \u001b[39mValueError\u001b[39;00m(\u001b[39m\"\u001b[39m\u001b[39mPercentiles must be in the range [0, 100]\u001b[39m\u001b[39m\"\u001b[39m)\n\u001b[0;32m-> 3867\u001b[0m \u001b[39mreturn\u001b[39;00m _quantile_unchecked(\n\u001b[1;32m   3868\u001b[0m     a, q, axis, out, overwrite_input, interpolation, keepdims)\n",
      "File \u001b[0;32m~/anaconda3/lib/python3.9/site-packages/numpy/lib/function_base.py:3986\u001b[0m, in \u001b[0;36m_quantile_unchecked\u001b[0;34m(a, q, axis, out, overwrite_input, interpolation, keepdims)\u001b[0m\n\u001b[1;32m   3983\u001b[0m \u001b[39mdef\u001b[39;00m \u001b[39m_quantile_unchecked\u001b[39m(a, q, axis\u001b[39m=\u001b[39m\u001b[39mNone\u001b[39;00m, out\u001b[39m=\u001b[39m\u001b[39mNone\u001b[39;00m, overwrite_input\u001b[39m=\u001b[39m\u001b[39mFalse\u001b[39;00m,\n\u001b[1;32m   3984\u001b[0m                         interpolation\u001b[39m=\u001b[39m\u001b[39m'\u001b[39m\u001b[39mlinear\u001b[39m\u001b[39m'\u001b[39m, keepdims\u001b[39m=\u001b[39m\u001b[39mFalse\u001b[39;00m):\n\u001b[1;32m   3985\u001b[0m     \u001b[39m\"\"\"Assumes that q is in [0, 1], and is an ndarray\"\"\"\u001b[39;00m\n\u001b[0;32m-> 3986\u001b[0m     r, k \u001b[39m=\u001b[39m _ureduce(a, func\u001b[39m=\u001b[39;49m_quantile_ureduce_func, q\u001b[39m=\u001b[39;49mq, axis\u001b[39m=\u001b[39;49maxis, out\u001b[39m=\u001b[39;49mout,\n\u001b[1;32m   3987\u001b[0m                     overwrite_input\u001b[39m=\u001b[39;49moverwrite_input,\n\u001b[1;32m   3988\u001b[0m                     interpolation\u001b[39m=\u001b[39;49minterpolation)\n\u001b[1;32m   3989\u001b[0m     \u001b[39mif\u001b[39;00m keepdims:\n\u001b[1;32m   3990\u001b[0m         \u001b[39mreturn\u001b[39;00m r\u001b[39m.\u001b[39mreshape(q\u001b[39m.\u001b[39mshape \u001b[39m+\u001b[39m k)\n",
      "File \u001b[0;32m~/anaconda3/lib/python3.9/site-packages/numpy/lib/function_base.py:3564\u001b[0m, in \u001b[0;36m_ureduce\u001b[0;34m(a, func, **kwargs)\u001b[0m\n\u001b[1;32m   3561\u001b[0m \u001b[39melse\u001b[39;00m:\n\u001b[1;32m   3562\u001b[0m     keepdim \u001b[39m=\u001b[39m (\u001b[39m1\u001b[39m,) \u001b[39m*\u001b[39m a\u001b[39m.\u001b[39mndim\n\u001b[0;32m-> 3564\u001b[0m r \u001b[39m=\u001b[39m func(a, \u001b[39m*\u001b[39;49m\u001b[39m*\u001b[39;49mkwargs)\n\u001b[1;32m   3565\u001b[0m \u001b[39mreturn\u001b[39;00m r, keepdim\n",
      "File \u001b[0;32m~/anaconda3/lib/python3.9/site-packages/numpy/lib/function_base.py:4098\u001b[0m, in \u001b[0;36m_quantile_ureduce_func\u001b[0;34m(***failed resolving arguments***)\u001b[0m\n\u001b[1;32m   4093\u001b[0m \u001b[39mif\u001b[39;00m np\u001b[39m.\u001b[39missubdtype(a\u001b[39m.\u001b[39mdtype, np\u001b[39m.\u001b[39minexact):\n\u001b[1;32m   4094\u001b[0m     \u001b[39m# may contain nan, which would sort to the end\u001b[39;00m\n\u001b[1;32m   4095\u001b[0m     ap\u001b[39m.\u001b[39mpartition(concatenate((\n\u001b[1;32m   4096\u001b[0m         indices_below\u001b[39m.\u001b[39mravel(), indices_above\u001b[39m.\u001b[39mravel(), [\u001b[39m-\u001b[39m\u001b[39m1\u001b[39m]\n\u001b[1;32m   4097\u001b[0m     )), axis\u001b[39m=\u001b[39m\u001b[39m0\u001b[39m)\n\u001b[0;32m-> 4098\u001b[0m     n \u001b[39m=\u001b[39m np\u001b[39m.\u001b[39misnan(ap[\u001b[39m-\u001b[39;49m\u001b[39m1\u001b[39;49m])\n\u001b[1;32m   4099\u001b[0m \u001b[39melse\u001b[39;00m:\n\u001b[1;32m   4100\u001b[0m     \u001b[39m# cannot contain nan\u001b[39;00m\n\u001b[1;32m   4101\u001b[0m     ap\u001b[39m.\u001b[39mpartition(concatenate((\n\u001b[1;32m   4102\u001b[0m         indices_below\u001b[39m.\u001b[39mravel(), indices_above\u001b[39m.\u001b[39mravel()\n\u001b[1;32m   4103\u001b[0m     )), axis\u001b[39m=\u001b[39m\u001b[39m0\u001b[39m)\n",
      "\u001b[0;31mIndexError\u001b[0m: index -1 is out of bounds for axis 0 with size 0"
     ]
    }
   ],
   "source": [
    "# Starter Code\n",
    "\n",
    "import numpy as np\n",
    "\n",
    "#Create a NumPy array of the x\n",
    "x = np.array([])\n",
    "\n",
    "# Calculate the percentile rank of x\n",
    "y = np.percentile(x, [1,2,3])\n",
    "\n",
    "# Print the results\n",
    "print(\"\", percentiles[0], \"\")\n",
    "print(\"\", percentiles[1], \"\")\n",
    "print(\"\", percentiles[2], \"\")\n",
    "\n",
    "# Determine the number of players who are in the top 10% x\n",
    "t = np.percentile(x, 90)\n",
    "z = x[x >= t]\n",
    "\n",
    "print(\"There are\", len(z), \"players in the top 10% (x).\")\n"
   ]
  },
  {
   "attachments": {},
   "cell_type": "markdown",
   "metadata": {},
   "source": [
    "# Lesson Portion 3 More into Pandas\n",
    "\n",
    "### What we are Covering\n",
    "- Explanation of Pandas and its uses in data analysis\n",
    "- Importing Pandas library\n",
    "- Loading data into Pandas DataFrames from CSV files\n",
    "- Manipulating and exploring data in Pandas DataFrames\n",
    "- Example of using Pandas for data analysis tasks such as filtering and sorting\n"
   ]
  },
  {
   "attachments": {},
   "cell_type": "markdown",
   "metadata": {},
   "source": [
    "## What are pandas and what is its purpose?\n",
    "\n",
    "- Pandas is a software library that is used in Python\n",
    "- Pandas are used for data analysis and data manipulation\n",
    "- Pandas offer data structures and operations for manipulating numerical tables and time series.\n",
    "- Pandas is free\n"
   ]
  },
  {
   "attachments": {},
   "cell_type": "markdown",
   "metadata": {},
   "source": [
    "## Things you can do using pandas\n",
    "\n",
    "- Data Cleansing; Identifying and correcting errors, inconsistencies, and inaccuracies in datasets.\n",
    "- Data fill; Filling in missing values in datasets.\n",
    "- Statistical Analysis; Analyzing datasets using statistical techniques to draw conclusions and make predictions.\n",
    "- Data Visualization; Representing datasets visually using graphs, charts, and other visual aids.\n",
    "- Data inspection; Examining datasets to identify potential issues or patterns, such as missing data, outliers, or trends.\n"
   ]
  },
  {
   "attachments": {},
   "cell_type": "markdown",
   "metadata": {},
   "source": [
    "## Pandas and Data analysis\n",
    "The 2 most important data structures in Pandas are:\n",
    "- Series ; A Series is a one-dimensional labeled array that can hold data of any type (integer, float, string, etc.). It is similar to a column in a spreadsheet or a SQL table. Each element in a Series has a label, known as an index. A Series can be created from a list, a NumPy array, a dictionary, or another Pandas Series.\n",
    "- DataFrame ;A DataFrame is a two-dimensional labeled data structure that can hold data of different types (integer, float, string, etc.). It is similar to a spreadsheet or a SQL table. Each column in a DataFrame is a Series, and each row is indexed by a label, known as an index. A DataFrame can be created from a dictionary of Series or NumPy arrays, a list of dictionaries, or other Pandas DataFrame."
   ]
  },
  {
   "attachments": {},
   "cell_type": "markdown",
   "metadata": {},
   "source": [
    "## Dataframes"
   ]
  },
  {
   "cell_type": "code",
   "execution_count": 11,
   "metadata": {},
   "outputs": [],
   "source": [
    "# Importing Pandas \n",
    "import pandas as pd\n"
   ]
  },
  {
   "cell_type": "code",
   "execution_count": 12,
   "metadata": {},
   "outputs": [
    {
     "data": {
      "text/plain": [
       "'1.4.2'"
      ]
     },
     "execution_count": 12,
     "metadata": {},
     "output_type": "execute_result"
    }
   ],
   "source": [
    "# Check if pandas is working\n",
    "pd.__version__"
   ]
  },
  {
   "attachments": {},
   "cell_type": "markdown",
   "metadata": {},
   "source": [
    "### Importing CSV Data"
   ]
  },
  {
   "attachments": {},
   "cell_type": "markdown",
   "metadata": {},
   "source": [
    "- imports the Pandas library and assigns it an alias 'pd'.\n",
    "- Loads a CSV file named 'nba_player_statistics.csv' into a Pandas DataFrame called 'df'.\n",
    "- Specifies a player's name 'Jimmy Butler' to filter the DataFrame for that player's stats. It creates a new DataFrame called 'player_stats' which only contains rows where the 'NAME' column matches 'Jimmy Butler'.\n",
    "- Displays the player's stats for points per game (PPG), rebounds per game (RPG), and assists per game (APG) using the print() function and string formatting.\n",
    "- The code uses the double square brackets [[PPG', 'RPG', 'APG']] to select only the columns corresponding to the player's points per game, rebounds per game, and assists per game from the player_stats DataFrame.\n",
    "- In summary, the code loads NBA player statistics data from a CSV file, filters it for a specific player, and displays the stats for that player's PPG, RPG, and APG using a Pandas DataFrame."
   ]
  },
  {
   "cell_type": "code",
   "execution_count": 17,
   "metadata": {},
   "outputs": [
    {
     "name": "stdout",
     "output_type": "stream",
     "text": [
      "\n",
      "Stats for Jimmy Butler:\n",
      "    PPG  RPG   APG\n",
      "0  35.0  5.0  11.0\n"
     ]
    }
   ],
   "source": [
    "import pandas as pd\n",
    "# Load the CSV file into a Pandas DataFrame\n",
    "df = pd.read_csv('/home/edwin/vscode/fastpage1/_notebooks/files/nba_player_statistics.csv')\n",
    "# Filter the DataFrame to only include stats for a specific player (in this case, Jimmy Butler)\n",
    "player_name = 'Jimmy Butler'\n",
    "player_stats = df[df['NAME'] == player_name]\n",
    "# Display the stats for the player\n",
    "print(f\"\\nStats for {player_name}:\")\n",
    "print(player_stats[['PPG', 'RPG', 'APG']])"
   ]
  },
  {
   "attachments": {},
   "cell_type": "markdown",
   "metadata": {},
   "source": [
    "#### In this code segment below we use Pandas to read a CSV file containing NBA player statistics and store it in a DataFrame.\n",
    "#### The reason Pandas is useful in this scenario is because it provides various functionalities to filter, sort, and manipulate the NBA data efficiently. In this code, the DataFrame is filtered to only include the stats for the player you guys choose. "
   ]
  },
  {
   "attachments": {},
   "cell_type": "markdown",
   "metadata": {},
   "source": [
    "- Imports the Pandas library and assigns it an alias 'pd'.\n",
    "- Loads a CSV file named 'nba_player_statistics.csv' into a Pandas DataFrame called 'df'.\n",
    "- Asks the user to input a player name using the input() function and assigns it to the variable player_name.\n",
    "- Filters the DataFrame for the specified player name using the df[df['NAME'] == player_name] syntax, and assigns the resulting DataFrame to the variable player_stats.\n",
    "- Checks if the player_stats DataFrame is empty using the empty attribute. If it is empty, prints \"No stats found for that player.\" Otherwise, it proceeds to step 6.\n",
    "- Displays the player's stats for points per game (PPG), rebounds per game (RPG), assists per game (APG), and total points + rebounds + assists (P+R+A) using the print() function and string formatting.\n",
    "- In summary, this code loads NBA player statistics data from a CSV file, asks the user to input a player name, filters the DataFrame for that player's stats, and displays the player's stats for PPG, RPG, APG, and P+R+A. If the player is not found in the DataFrame, it prints a message indicating that no stats were found."
   ]
  },
  {
   "cell_type": "code",
   "execution_count": 18,
   "metadata": {},
   "outputs": [
    {
     "name": "stdout",
     "output_type": "stream",
     "text": [
      "No stats found for that player.\n",
      "Empty DataFrame\n",
      "Columns: [PPG, RPG, APG, P+R+A]\n",
      "Index: []\n"
     ]
    }
   ],
   "source": [
    "import pandas as pd\n",
    "df = pd.read_csv('/home/edwin/vscode/fastpage1/_notebooks/files/nba_player_statistics.csv')\n",
    "# Load CSV file into a Pandas DataFrame\n",
    "player_name = input(\"Enter player name: \")\n",
    "# Get player name input from user\n",
    "player_stats = df[df['NAME'] == player_name]\n",
    "# Filter the DataFrame to only include stats for the specified player\n",
    "if player_stats.empty:\n",
    "    print(\"No stats found for that player.\")\n",
    "else:\n",
    "# Check if the player exists in the DataFrame\n",
    "    print(f\"\\nStats for {player_name}:\")\n",
    "print(player_stats[['PPG', 'RPG', 'APG', 'P+R+A']])\n",
    "# Display the stats for the player inputted."
   ]
  },
  {
   "attachments": {},
   "cell_type": "markdown",
   "metadata": {},
   "source": [
    "# Lesson Portion 4\n",
    "### What we will be covering\n",
    "- Example of analyzing data using both NumPy and Pandas libraries\n",
    "- Importing data into NumPy and Pandas Performing basic data analysis tasks such as mean, median, and standard deviation Visualization of data using Matplotlib library\n"
   ]
  },
  {
   "attachments": {},
   "cell_type": "markdown",
   "metadata": {},
   "source": [
    "### Example of analyzing data using both NumPy and Pandas libraries"
   ]
  },
  {
   "cell_type": "code",
   "execution_count": 20,
   "metadata": {},
   "outputs": [
    {
     "name": "stdout",
     "output_type": "stream",
     "text": [
      "\n",
      "Average stats for LeBron James:\n",
      "PPG: 21.00\n",
      "RPG: 11.00\n",
      "APG: 5.00\n",
      "P+R+A: 37.00\n"
     ]
    }
   ],
   "source": [
    "import numpy as np\n",
    "import pandas as pd\n",
    "\n",
    "# Load CSV file into a Pandas DataFrame\n",
    "\n",
    "df = pd.read_csv('/home/edwin/vscode/fastpage1/_notebooks/files/nba_player_statistics.csv')\n",
    "\n",
    "# Filter the DataFrame to only include stats for the specified player\n",
    "\n",
    "player_name = input(\"Enter player name: \")\n",
    "player_stats = df[df['NAME'] == player_name]\n",
    "if player_stats.empty:\n",
    "    print(\"No stats found for that player.\")\n",
    "else:\n",
    "\n",
    "    # Convert the player stats to a NumPy array\n",
    "    player_stats_np = np.array(player_stats[['PPG', 'RPG', 'APG', 'P+R+A']])\n",
    "\n",
    "    # Calculate the average of each statistic for the player\n",
    "\n",
    "    player_stats_avg = np.mean(player_stats_np, axis=0)\n",
    "\n",
    "    # Print out the average statistics for the player\n",
    "\n",
    "    print(f\"\\nAverage stats for {player_name}:\")\n",
    "    print(f\"PPG: {player_stats_avg[0]:.2f}\")\n",
    "    print(f\"RPG: {player_stats_avg[1]:.2f}\")\n",
    "    print(f\"APG: {player_stats_avg[2]:.2f}\")\n",
    "    print(f\"P+R+A: {player_stats_avg[3]:.2f}\")"
   ]
  },
  {
   "attachments": {},
   "cell_type": "markdown",
   "metadata": {},
   "source": [
    "NumPy impacts the given code because it performs operations on arrays efficiently. Specifically, it converts a Pandas DataFrame object to a NumPy array object, and then calculates the average statistics for a the player you guys inputted. Without NumPy, it would be more difficult and less efficient to perform these calculations on large data sets. It does the math for us."
   ]
  },
  {
   "attachments": {},
   "cell_type": "markdown",
   "metadata": {},
   "source": [
    "### Importing data into NumPy and Pandas Performing basic data analysis tasks such as mean, median, and standard deviation Visualization of data using Matplotlib library\n",
    "\n",
    "Matplotlib is used essentially to create visuals of data. charts,diagrams,etc."
   ]
  },
  {
   "cell_type": "code",
   "execution_count": 21,
   "metadata": {},
   "outputs": [
    {
     "name": "stdout",
     "output_type": "stream",
     "text": [
      "   RANK             NAME TEAM POS   AGE  GP   MPG  USG%   TO%  FTA  ...   APG  \\\n",
      "0     1     Jimmy Butler  Mia   F  33.6   1  42.9  34.3   9.9    8  ...  11.0   \n",
      "1     2    Kawhi Leonard  Lac   F  31.8   2  40.2  30.0  11.9   17  ...   6.0   \n",
      "2     3  Khris Middleton  Mil   F  31.7   1  33.1  37.5  19.8   10  ...   4.0   \n",
      "3     4     Devin Booker  Pho   G  26.5   2  44.1  28.8  16.2   14  ...   6.0   \n",
      "4     5     De'Aaron Fox  Sac   G  25.3   2  38.2  31.6   9.0   14  ...   7.0   \n",
      "\n",
      "   SPG  BPG  TPG   P+R   P+A  P+R+A    VI   ORtg   DRtg  \n",
      "0  3.0  0.0  3.0  40.0  46.0   51.0  11.6  117.2  103.8  \n",
      "1  2.0  0.5  3.0  41.0  40.5   47.0  11.0  129.5  110.4  \n",
      "2  0.0  0.0  5.0  42.0  37.0   46.0  12.8  115.5  111.9  \n",
      "3  2.5  1.5  4.0  33.0  38.0   39.0   5.2  121.9  111.0  \n",
      "4  3.5  0.5  2.5  34.0  38.0   41.0   9.1  112.6  108.8  \n",
      "\n",
      "[5 rows x 29 columns]\n",
      "Mean Minutes:  20.985483870967748\n",
      "Median Minutes:  23.0\n",
      "Standard Deviation Minutes:  12.844102823170283\n"
     ]
    },
    {
     "data": {
      "image/png": "[encoded data removed]",
      "text/plain": [
       "<Figure size 432x288 with 1 Axes>"
      ]
     },
     "metadata": {
      "needs_background": "light"
     },
     "output_type": "display_data"
    }
   ],
   "source": [
    "import numpy as np\n",
    "import pandas as pd\n",
    "import matplotlib.pyplot as plt\n",
    "\n",
    "# Load the CSV file into a Pandas DataFrame\n",
    "df = pd.read_csv('/home/edwin/vscode/fastpage1/_notebooks/files/nba_player_statistics.csv')\n",
    "\n",
    "# Print the first 5 rows of the DataFrame\n",
    "print(df.head())\n",
    "\n",
    "# Calculate the mean, median, and standard deviation of the 'Points' column\n",
    "mean_minutes = df['MPG'].mean()\n",
    "median_minutes = df['MPG'].median()\n",
    "stddev_minutes = df['MPG'].std()\n",
    "\n",
    "# Print the results\n",
    "print('Mean Minutes: ', mean_minutes)\n",
    "print('Median Minutes: ', median_minutes)\n",
    "print('Standard Deviation Minutes: ', stddev_minutes)\n",
    "\n",
    "# Create a histogram of the 'Points' column using Matplotlib\n",
    "plt.hist(df['MPG'], bins=20)\n",
    "plt.title('MPG Histogram')\n",
    "plt.xlabel('MPG')\n",
    "plt.ylabel('Frequency')\n",
    "plt.show()\n"
   ]
  },
  {
   "attachments": {},
   "cell_type": "markdown",
   "metadata": {},
   "source": [
    "In this example code, we first import the necessary libraries, including NumPy, Pandas, and Matplotlib. We then load the CSV file into a Pandas DataFrame using the pd.read_csv() function. We print the first 5 rows of the DataFrame using the df.head() function. Next, we calculate the mean, median, and standard deviation of the 'MPG' column using the appropriate Pandas methods, and print the results. And, we create a histogram of the 'MPG' column using Matplotlib by calling the plt.hist() function and setting appropriate axis labels and a title. We then call the plt.show() method to display the plot. Even though NumPy is not directly used in this code, it is an important underlying component of the pandas and Matplotlib libraries, which are used to load, manipulate and visualize data. It allows them to work more efficiently"
   ]
  },
  {
   "attachments": {},
   "cell_type": "markdown",
   "metadata": {},
   "source": [
    "# Lesson Portion 5; Summary"
   ]
  },
  {
   "attachments": {},
   "cell_type": "markdown",
   "metadata": {},
   "source": [
    "#### Summary/Goals of Lesson:\n",
    "One of our goals was to make you understand data analysis and how it can be important in optimizing business performance. We also wanted to make sure you understood the use of Pandas and NumPy libraries in data analysis, with a focus on NumPy. As someone who works with data, we find Pandas incredibly useful for manipulating, analyzing, and visualizing data in Python. The way we use pandas is to calculate individual player and team statistics. We are a group that works with numerical data, so NumPy is one of our favorite tools for working with arrays and applying mathematical functions to them. It is very fast at computing and manipulating arrays making it a very valuable tool for tracking statistics which is important to our group. For example, if you have an array of the points scored by each player in a game, you can use NumPy to calculate the total points scored, average points per player, or the highest and lowest scoring players.\n",
    "\n",
    "\n",
    "\n",
    "\n",
    "\n",
    "\n",
    "\n"
   ]
  },
  {
   "attachments": {},
   "cell_type": "markdown",
   "metadata": {},
   "source": [
    "# Lesson Portion 6 Hacks\n",
    "#### Printing a CSV File (0.5)\n",
    "- Use this link https://github.com/ali-ce/datasets to select csv file of a topic you are interested in, or you may find one online.\n",
    "    - Products.csv from CES 2015\n",
    "- Once you select your topic make sure it is a csv file and then you want to press on the button that says raw.\n",
    "- After that copy that information and create a file with a name and .csv at the end and paste your information.\n",
    "- Below is a start that you can use for your hacks.\n",
    "- Your goal is to print 2 specific parts from data (example could be like population and country).\n",
    "\n",
    "#### Popcorn Hacks (0.2)\n",
    "- Lesson Portion 1.\n",
    "#### Answering Questions (0.2)\n",
    "- Found Below.\n",
    "\n",
    "## Submit By Thursday 8:35 A.M.\n",
    "- How to Submit: Slack a Blog Post that includes all of your hacks to \"Joshua Williams\" on Slack."
   ]
  },
  {
   "cell_type": "code",
   "execution_count": 13,
   "metadata": {},
   "outputs": [
    {
     "name": "stdout",
     "output_type": "stream",
     "text": [
      "                                            Product  \\\n",
      "0                                     iHealth Align   \n",
      "1                                           Pacif-i   \n",
      "2                                       SleepPhones   \n",
      "3                                       Ozbot Bit's   \n",
      "4                                              Noke   \n",
      "5                                   Quitbit Lighter   \n",
      "6                             The Eye Tribe Tracker   \n",
      "7                                     Swiftpoint GT   \n",
      "8                            Water Sensor and Valve   \n",
      "9                                  Narrative Clip 2   \n",
      "10                                        The Slate   \n",
      "11                                      Smart Socks   \n",
      "12                              ZUtA Pocket Printer   \n",
      "13                                      iCam HD Pro   \n",
      "14                               micoach Smart Ball   \n",
      "15                 Levitating Air2 Wireless Speaker   \n",
      "16                        QS1 Quantum Security Case   \n",
      "17             The 94Fifty Smart Sensoor Basketball   \n",
      "18                                         The Dash   \n",
      "19                                         Melomind   \n",
      "20                                     Baby Monitor   \n",
      "21                       Smart Home Security System   \n",
      "22                                      DroneMobile   \n",
      "23                                  Full HD 360 cam   \n",
      "24  Fidelio B5 Wireless Surround-on-Demand Soundbar   \n",
      "25                                        Haiku Fan   \n",
      "26                                          Scanify   \n",
      "27                                          IO HAWK   \n",
      "28                             Whirlpool HybridCare   \n",
      "29            Sony a7S Full Frame Mirrorless Camera   \n",
      "30                                      Elite SC-89   \n",
      "31                        Samsung 105-inch UN105S9B   \n",
      "32                                    WakaWaka Base   \n",
      "33                                          iKettle   \n",
      "34                                      Parrot RNB6   \n",
      "35                                  Connected Pedal   \n",
      "36                           Smart Mirror Prototype   \n",
      "37                                        NightHawk   \n",
      "38                                        Tao Chair   \n",
      "39                                     Food Printer   \n",
      "40                              Venue 8 7000 Series   \n",
      "41                                  Estelon Extreme   \n",
      "42                                            Quell   \n",
      "43                                          Rolkers   \n",
      "44                                   Snap Lightbulb   \n",
      "45                                        Baby Gigl   \n",
      "46                       Mercedes Benz F 015 Luxury   \n",
      "47                                 Qualcomm WiPower   \n",
      "48                 Multi-function Air light (Z-Air)   \n",
      "49                         Samsung Galaxy Note Edge   \n",
      "\n",
      "                                                Image  \\\n",
      "0   http://www.cesweb.org/CES/media/2014/Innovatio...   \n",
      "1   http://bluemaestro.com/wp-content/uploads/2014...   \n",
      "2   http://www.sleepphones.com/sites/default/files...   \n",
      "3   http://www.ozobot.com/wp-content/uploads/revsl...   \n",
      "4   http://cdn.shopify.com/s/files/1/0276/6013/t/2...   \n",
      "5   https://www.filepicker.io/api/file/OTnMAeTcSf3...   \n",
      "6   http://www.cesweb.org/CES/media/2014/Innovatio...   \n",
      "7   http://www.cesweb.org/CES/media/2014/Innovatio...   \n",
      "8   https://s3.amazonaws.com/ksr/assets/002/097/89...   \n",
      "9   http://getnarrative.com/assets/images/clip-bla...   \n",
      "10  https://s3.amazonaws.com/ksr/assets/000/647/76...   \n",
      "11  http://cdn2.bigcommerce.com/n-d57o0b/jtyld/pro...   \n",
      "12  http://www.cesweb.org/CES/media/2014/Innovatio...   \n",
      "13  http://www.cesweb.org/CES/media/2014/Innovatio...   \n",
      "14  http://demandware.edgesuite.net/sits_pod14-adi...   \n",
      "15  http://i.dailymail.co.uk/i/pix/2015/01/05/246B...   \n",
      "16  https://www.vysk.com/images/qs1-product/QS1-Bl...   \n",
      "17  http://www.cesweb.org/CES/media/2014/Innovatio...   \n",
      "18  http://cdn.shopify.com/s/files/1/0393/7549/pro...   \n",
      "19  http://www.melomind.com/wp-content/uploads/201...   \n",
      "20  http://www.cesweb.org/CES/media/2014/Innovatio...   \n",
      "21  http://media.bestofmicro.com/F/V/472315/origin...   \n",
      "22  http://www.dronemobile.com/static/img/products...   \n",
      "23  https://s3.amazonaws.com/ksr/assets/002/033/12...   \n",
      "24  http://www.cesweb.org/CES/media/2014/Innovatio...   \n",
      "25  https://store.bigasssolutions.com/media/catalo...   \n",
      "26  http://www.cesweb.org/CES/media/2014/Innovatio...   \n",
      "27  http://nebula.wsimg.com/obj/QjQ1RDRCOUY2REMxOU...   \n",
      "28  http://www.cesweb.org/CES/media/2014/Innovatio...   \n",
      "29  http://www.cesweb.org/CES/media/2014/Innovatio...   \n",
      "30  http://www.cesweb.org/CES/media/2014/Innovatio...   \n",
      "31  http://www.cesweb.org/CES/media/2014/Innovatio...   \n",
      "32  http://nl.waka-waka.com/media/thunderclap-(tod...   \n",
      "33  http://cdn.shopify.com/s/files/1/0712/3461/pro...   \n",
      "34  http://www.cesweb.org/CES/media/2014/Innovatio...   \n",
      "35  http://cnet2.cbsistatic.com/hub/i/r/2015/01/05...   \n",
      "36  http://www.augmentedrealitytrends.com/wp-conte...   \n",
      "37  http://www.cesweb.org/CES/media/2014/Innovatio...   \n",
      "38  http://taochair.envisionarydesign.com/wp-conte...   \n",
      "39  http://3dprint.com/wp-content/uploads/2014/11/...   \n",
      "40  http://www.cesweb.org/CES/media/2014/Innovatio...   \n",
      "41  http://www.cesweb.org/CES/media/2014/Innovatio...   \n",
      "42  http://www.quellrelief.com/img/product_03_desk...   \n",
      "43  http://www.rollkers.com/wp-content/uploads/201...   \n",
      "44  http://www.legitreviews.com/wp-content/uploads...   \n",
      "45  http://www.slowcontrol.com/en/wp-content/uploa...   \n",
      "46  https://www.mercedes-benz.com/wp-content/uploa...   \n",
      "47  http://www.cesweb.org/CES/media/2014/Innovatio...   \n",
      "48  http://www.cesweb.org/CES/media/2014/Innovatio...   \n",
      "49  http://www.cesweb.org/CES/media/2014/Innovatio...   \n",
      "\n",
      "                           Company                      Product Category  \\\n",
      "0                      iHealth Lab                      Health & Fitness   \n",
      "1                      BlueMaestro                Baby, Health & Fitness   \n",
      "2                   Acoustic Sheep               Music, Health & Fitness   \n",
      "3                          Evollve                              Robotics   \n",
      "4                       Fuz Design                              Security   \n",
      "5                          Quitbit                      Health & Fitness   \n",
      "6                    The Eye Tribe                           Eye Tracker   \n",
      "7                       Swiftpoint                  Computer Accessories   \n",
      "8                             Edyn                                  Home   \n",
      "9                    Get Narrative                                Camera   \n",
      "10                            ISKN                    Mobile Accessories   \n",
      "11                        Sensoria                      Health & Fitness   \n",
      "12                       ZUtA Labs                  Computer Accessories   \n",
      "13                        Amaryllo                                Camera   \n",
      "14                          adidas                      Health & Fitness   \n",
      "15                       Axxess CE               Music, Health & Fitness   \n",
      "16                            Vysk          Mobile Accessories, Security   \n",
      "17  InfoMotion Sports Technologies                      Health & Fitness   \n",
      "18                           Bragi               Music, Health & Fitness   \n",
      "19                         myBrain                      Health & Fitness   \n",
      "20                      Sproutling                Baby, Health & Fitness   \n",
      "21                           Myfox                              Security   \n",
      "22                        Firstech                              Security   \n",
      "23                        GIROPTIC                                Camera   \n",
      "24                         Philips                                 Music   \n",
      "25                         Big Ass                                  Home   \n",
      "26                           Fuel3                           3D Printing   \n",
      "27                         IO HAWK                             Transport   \n",
      "28                       Whirlpool                                  Home   \n",
      "29                            Sony                                Camera   \n",
      "30                         Pioneer                         Entertainment   \n",
      "31                         Samsung                                 Video   \n",
      "32                        WakaWaka    Portable Power, Mobile Accessories   \n",
      "33                         Smarter                                  Home   \n",
      "34                          PARROT                             Transport   \n",
      "35                 Connected Cycle  Tansport, Health & Fitness, Security   \n",
      "36                       Panasonic                                Beauty   \n",
      "37                      AudioQuest                                 Music   \n",
      "38                    Tao Wellness                                  Home   \n",
      "39                     XYZPrinting                           3D Printing   \n",
      "40                            Dell                                Mobile   \n",
      "41               Alfred & Partners                                 Music   \n",
      "42                     NeuroMetrix                      Health & Fitness   \n",
      "43                         Rolkers                             Transport   \n",
      "44                         Sengled                                  Home   \n",
      "45            Slow Control Company                Baby, Health & Fitness   \n",
      "46                   Mercedes Benz                             Transport   \n",
      "47                        Qualcomm                        Portable Power   \n",
      "48                          Zalman                                  Home   \n",
      "49                         Samsung                                Mobile   \n",
      "\n",
      "                                          Description  \\\n",
      "0   This powerful glucose meter plugs directly int...   \n",
      "1   With a temperature sensor built into the pacif...   \n",
      "2   Relieve stress and listen to music with wonder...   \n",
      "3   As seen on Wall Street Journal, Forbes, CNET a...   \n",
      "4   The world's first bluetooth padlock. Noke is a...   \n",
      "5   Quitbit is a lighter that tracks all your smok...   \n",
      "6   The Eye Tribe Tracker - this small device repr...   \n",
      "7   The first mouse allowing truly natural touch g...   \n",
      "8   The Edyn Garden Sensor tracks light, humidity,...   \n",
      "9   The Narrative Clip is a tiny, automatic camera...   \n",
      "10  The Slate digitizes your sketches, drawings an...   \n",
      "11  Sensoria® socks are infused with proprietary 1...   \n",
      "12  We re-imagined the printer to fit today's \"on-...   \n",
      "13  iCam HD Pro is Amaryllo's newest entry to the ...   \n",
      "14  Smart Ball is a soccer ball with an integrated...   \n",
      "15  Simply put, the Levitating Air2 Wireless Speak...   \n",
      "16  Locks down an iPhone’s microphones to prevent ...   \n",
      "17  The 94Fifty® Smart Sensor Basketball Glassware...   \n",
      "18  Wireless in hear headphones. 4GB MP3 Player. M...   \n",
      "19  The connected headset to get rid of stress. Pu...   \n",
      "20  Sproutling is the first baby monitor that sens...   \n",
      "21  Myfox Security System comes with 1 IntelliTAG™...   \n",
      "22  DroneMobile gives you the peace of mind, conve...   \n",
      "23  The 360cam from GIROPTIC is the first ultra hi...   \n",
      "24  Philips Fidelio B5 wireless surround soundbar ...   \n",
      "25  Haiku® with SenseME™ technology monitors tempe...   \n",
      "26  The Fuel3D scanner is an affordable handheld 3...   \n",
      "27  The IO HAWK is the next evolution in the way t...   \n",
      "28  The new Whirlpool® HybridCare™ clothes dryer w...   \n",
      "29  World’s smallest full-frame interchangeable le...   \n",
      "30  Pioneer Elite SC-89 9.2-channel A/V receiver i...   \n",
      "31  Samsung's 105-inch UN105S9B is the World's fir...   \n",
      "32  The WakaWaka Base is the next step in the evol...   \n",
      "33  iKettle is the first Wi-fi kettle that can be ...   \n",
      "34  Android 2-DIN Infotainment System that enhance...   \n",
      "35  Connected Cycle pedal is the first ever connec...   \n",
      "36  An interactive mirror (prototype) that can che...   \n",
      "37  NightHawk is a semi-open, over-ear headphone w...   \n",
      "38  The embedded sensors inside the chair's armres...   \n",
      "39  3D Pinter transforming ingredients into cooked...   \n",
      "40  Innovation in its thinnest form: The new Dell ...   \n",
      "41  The monumental sculpture of a speaker, standin...   \n",
      "42  Quell is the only wearable pain relief of its ...   \n",
      "43  Rollkers is a transportation accessory that in...   \n",
      "44  Indoor/Outdoor LED lamp with integrated 720p H...   \n",
      "45  Smart Bottle holder to protect your baby’s hea...   \n",
      "46  One core theme of the innovative interior conc...   \n",
      "47  Qualcomm’s WiPower™ enables wireless charging ...   \n",
      "48  Z-Air is a ceiling fan with concealed blades, ...   \n",
      "49  The Galaxy Note Edge blends the best of the No...   \n",
      "\n",
      "                      Starting Price                    Company HQ  \\\n",
      "0                             $16.95     California, United States   \n",
      "1                             $39.00                United Kingdom   \n",
      "2                             $39.95   Pennsylvania, United States   \n",
      "3                             $49.99     California, United States   \n",
      "4                             $59.99           Utah, United States   \n",
      "5                             $99.00  Massachusetts, United States   \n",
      "6                             $99.00                       Denmark   \n",
      "7                            €109.00                   New Zealand   \n",
      "8                            $159.98     California, United States   \n",
      "9                            $199.00                        Sweden   \n",
      "10                           €199.00                        France   \n",
      "11                           $199.00     Washington, United States   \n",
      "12                           $199.00       Illinois, United States   \n",
      "13                           $199.90                   Netherlands   \n",
      "14                           €200.00                       Germany   \n",
      "15                           $200.00       New York, United States   \n",
      "16                           $229.99          Texas, United States   \n",
      "17                           €249.95           Ohio, United States   \n",
      "18                           $299.00                       Germany   \n",
      "19                           $299.00                         Spain   \n",
      "20                              $299     California, United States   \n",
      "21                           $299.99                        France   \n",
      "22                           $449.99     Washington, United States   \n",
      "23                           $499.00                        France   \n",
      "24                           €799.00                   Netherlands   \n",
      "25                         $1,045.00       Kentucky, United States   \n",
      "26                         $1,490.00                United Kingdom   \n",
      "27                         $1,799.99                 United States   \n",
      "28                         $1,899.00       Michigan, United States   \n",
      "29                         $2,499.99                         Japan   \n",
      "30                         $3,000.00                         Japan   \n",
      "31                         €3,199.00                   South Korea   \n",
      "32  $89.00 (for Kickstarter backers)                   Netherlands   \n",
      "33                            £99.99                United Kingdom   \n",
      "34                               NaN                        France   \n",
      "35                               NaN                        France   \n",
      "36                               NaN                         Japan   \n",
      "37                               NaN     California, United States   \n",
      "38                               NaN         Nevada, United States   \n",
      "39                               NaN                         China   \n",
      "40                               NaN          Texas, United States   \n",
      "41                               NaN                       Estonia   \n",
      "42                               NaN  Massachusetts, United States   \n",
      "43                               NaN                        France   \n",
      "44                               NaN                         China   \n",
      "45                               NaN                        France   \n",
      "46                               NaN                       Germany   \n",
      "47                               NaN     California, United States   \n",
      "48                               NaN                   South Korea   \n",
      "49                               NaN                   South Korea   \n",
      "\n",
      "   CES Innovation Award Honoree  \\\n",
      "0           Best of Innovations   \n",
      "1                           NaN   \n",
      "2                           NaN   \n",
      "3                           NaN   \n",
      "4           Best of Innovations   \n",
      "5                           NaN   \n",
      "6           Best of Innovations   \n",
      "7           Best of Innovations   \n",
      "8           Best of Innovations   \n",
      "9                           NaN   \n",
      "10                          NaN   \n",
      "11                          NaN   \n",
      "12          Best of Innovations   \n",
      "13          Best of Innovations   \n",
      "14          Best of Innovations   \n",
      "15          Best of Innovations   \n",
      "16                          NaN   \n",
      "17          Best of Innovations   \n",
      "18          Best of Innovations   \n",
      "19                          NaN   \n",
      "20          Best of Innovations   \n",
      "21                          NaN   \n",
      "22                          NaN   \n",
      "23                          NaN   \n",
      "24          Best of Innovations   \n",
      "25                          NaN   \n",
      "26          Best of Innovations   \n",
      "27                          NaN   \n",
      "28          Best of Innovations   \n",
      "29          Best of Innovations   \n",
      "30          Best of Innovations   \n",
      "31          Best of Innovations   \n",
      "32                          NaN   \n",
      "33                          NaN   \n",
      "34          Best of Innovations   \n",
      "35                          NaN   \n",
      "36                          NaN   \n",
      "37          Best of Innovations   \n",
      "38                          NaN   \n",
      "39                          NaN   \n",
      "40          Best of Innovations   \n",
      "41          Best of Innovations   \n",
      "42                          NaN   \n",
      "43                          NaN   \n",
      "44          Best of Innovations   \n",
      "45                          NaN   \n",
      "46                          NaN   \n",
      "47          Best of Innovations   \n",
      "48          Best of Innovations   \n",
      "49          Best of Innovations   \n",
      "\n",
      "                                             Homepage  \n",
      "0   http://www.ihealthlabs.com/glucometer/ihealth-...  \n",
      "1       http://bluemaestro.com/pacifi-smart-pacifier/  \n",
      "2   http://www.sleepphones.com/store/sleepphones-s...  \n",
      "3                              http://www.ozobot.com/  \n",
      "4                    http://fuzdesigns.com/pages/Noke  \n",
      "5                          http://quitbitlighter.com/  \n",
      "6                            https://theeyetribe.com/  \n",
      "7   http://eu.swiftpoint.com/shop/Swiftpoint+GT+Pr...  \n",
      "8                               https://www.edyn.com/  \n",
      "9                            http://getnarrative.com/  \n",
      "10                           http://store-eu.iskn.co/  \n",
      "11  http://store.sensoriafitness.com/sensoria-fitn...  \n",
      "12                           http://www.zutalabs.com/  \n",
      "13  http://www.amaryllo.eu/n40822store/icam-shopca...  \n",
      "14               http://micoach.adidas.com/smartball/  \n",
      "15                          http://www.axxessce.com/#  \n",
      "16                      https://www.vysk.com/qs1-shop  \n",
      "17  http://www.94fifty.nl/nl/smart-sensor-basketba...  \n",
      "18                              http://www.bragi.com/  \n",
      "19                           http://www.melomind.com/  \n",
      "20                         http://www.sproutling.com/  \n",
      "21  http://www.getmyfox.com/us_en/store/myfox-secu...  \n",
      "22                        http://www.dronemobile.com/  \n",
      "23                           http://www.giroptic.com/  \n",
      "24  http://www.philips.nl/c-p/B5_12/fidelio-soundb...  \n",
      "25        https://store.bigasssolutions.com/fans.html  \n",
      "26                               https://fuel-3d.com/  \n",
      "27                                http://iohawk.com//  \n",
      "28  http://www.whirlpool.com/-[WED99HEDC]-1022543/...  \n",
      "29  http://store.sony.com/a7s-full-frame-mirrorles...  \n",
      "30  http://www.pioneerelectronics.com/PUSA/Home/AV...  \n",
      "31  http://www.samsung.com/nl/consumer/tv-audio-vi...  \n",
      "32  http://nl.waka-waka.com/nieuws/2014/10/wakawak...  \n",
      "33  http://store.smarter.am/collections/frontpage/...  \n",
      "34  http://blog.parrot.com/2015/01/05/ces-2015-par...  \n",
      "35                         http://connectedcycle.com/  \n",
      "36  http://news.panasonic.com/press/news/data/2015...  \n",
      "37                   http://nighthawk.audioquest.com/  \n",
      "38                               http://taochair.com/  \n",
      "39  http://www.cnet.com/products/xyzprinting-food-...  \n",
      "40  http://www.dell.com/learn/us/en/19/campaigns/l...  \n",
      "41  http://www.estelon.com/wp-content/themes/estel...  \n",
      "42                        http://www.quellrelief.com/  \n",
      "43                           http://www.rollkers.com/  \n",
      "44                            http://www.sengled.com/  \n",
      "45           http://www.slowcontrol.com/en/baby-glgl/  \n",
      "46  https://www.mercedes-benz.com/en/mercedes-benz...  \n",
      "47          https://www.qualcomm.com/products/wipower  \n",
      "48        https://www.youtube.com/watch?v=yugX3WCALrE  \n",
      "49  http://www.samsung.com/global/microsite/galaxy...  \n"
     ]
    }
   ],
   "source": [
    "import pandas as pd\n",
    "# read the CSV file\n",
    "df = pd.read_csv(\"files/Products.csv\") #.sort_values(by=['HQ'], ascending=False)\n",
    "# display the data in a table\n",
    "print(df)"
   ]
  },
  {
   "attachments": {},
   "cell_type": "markdown",
   "metadata": {},
   "source": [
    "## Question Hacks;\n",
    "\n",
    "\n",
    "What is NumPy and how is it used in data analysis?\n",
    "\n",
    "What is Pandas and how is it used in data analysis?\n",
    "\n",
    "How is NunPy different than Pandas for data analysis?\n",
    "\n",
    "What is a DataFrame?\n",
    "\n",
    "What are some common operations you can perform with NunPy?\n",
    "\n",
    "How Can You Incorporate Either of these Data Analysis Tools (NunPy, Pandas) into your project?\n",
    "\n",
    "\n"
   ]
  }
 ],
 "metadata": {
  "kernelspec": {
   "display_name": "base",
   "language": "python",
   "name": "python3"
  },
  "language_info": {
   "codemirror_mode": {
    "name": "ipython",
    "version": 3
   },
   "file_extension": ".py",
   "mimetype": "text/x-python",
   "name": "python",
   "nbconvert_exporter": "python",
   "pygments_lexer": "ipython3",
   "version": "3.9.12"
  },
  "orig_nbformat": 4
 },
 "nbformat": 4,
 "nbformat_minor": 2
}
