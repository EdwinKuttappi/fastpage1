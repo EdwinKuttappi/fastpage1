{
 "cells": [
  {
   "cell_type": "markdown",
   "metadata": {},
   "source": [
    "# Welcome to the Quiz\n",
    "\n",
    "Are you ready to take a quiz? This quiz will be regarding the vocabulary from CollegeBoard that is important to know\n",
    "\n",
    "- comments: true\n",
    "- author: John Mortensen and Edwin Abraham\n",
    "- categories: [quiz,tri1,week1]"
   ]
  },
  {
   "cell_type": "markdown",
   "metadata": {},
   "source": [
    "# Time for a Test!\n",
    "\n",
    "Do you think you are ready to take a test about the vocabulary from CollegeBoard to help you become a better programmer?\n",
    "\n",
    "Read the Code below to find out how to take the test, look at the outputs"
   ]
  },
  {
   "cell_type": "code",
   "execution_count": 4,
   "metadata": {},
   "outputs": [
    {
     "name": "stdout",
     "output_type": "stream",
     "text": [
      "Hello, sunny running /bin/python3\n",
      "You will be asked 5 questions.\n",
      "Question: Are you ready to take a test?\n",
      "Answer: yes\n",
      "Question: If you have two or more lines of code, what is this called?\n",
      "sequence is the right answer, you have a score of 20.0%\n",
      "Question: What is a key word commonly used in Python to define a function?\n",
      "def is the right answer, you have a score of 40.0%\n",
      "Question: The three basics of a function are input, '____', and grouping commands?\n",
      "output is the right answer, you have a score of 60.0%\n",
      "Question: In programming, a '______' is used to define data patterns\n",
      "dictionary is the right answer, you have a score of 80.0%\n",
      "Question: What is it called when you group a sequence of commands? Hint: This is used very frequently\n",
      "sequence is incorrect, you have a score of 80.0%\n",
      "sunny you scored 4/5\n"
     ]
    }
   ],
   "source": [
    "def question_and_answer(prompt): # This part of the code defines the variable question_and_answer\n",
    "    print(\"Question: \" + prompt) # This line of code is printing Question and the prompt after it\n",
    "    msg = input() # This line is setting the message to the user's input\n",
    "    print (\"Answer: \" + msg) # The Code is printing the answer which is the user's message\n",
    "\n",
    "import getpass, sys\n",
    "\n",
    "def question_with_response(prompt): # Defining another variable\n",
    "    print(\"Question: \" + prompt)\n",
    "    msg = input()\n",
    "    return msg\n",
    "\n",
    "questions = 5 # Defining the variable showing that there are 3 questions\n",
    "correct = 0 # Before starting the quiz, this variable is set to 0, but as the user gets a question right, a point is added\n",
    "\n",
    "print('Hello, ' + getpass.getuser() + \" running \" + sys.executable) # Finds the user's data and tells them what they are running\n",
    "print(\"You will be asked \" + str(questions) + \" questions.\") # Telling the user how many questions are on the quiz\n",
    "question_and_answer(\"Are you ready to take a test?\")\n",
    "\n",
    "rsp = question_with_response(\"If you have two or more lines of code, what is this called?\")\n",
    "if rsp == \"sequence\": # This checks the user's response and checks if it is sequence, then it goes through an if statement to determine if the answer is right\n",
    "    correct += 1 # The correct variable gets 1 point added\n",
    "    print(rsp + \" is the right answer, you have a score of \" + str((correct / questions) * 100) + \"%\") # If the response is sequence, then this code will be outputted\n",
    "else: # This takes the user's response and checks if it is sequence, if it is not it will go through an else statement\n",
    "    print(rsp + \" is incorrect, you have a score of \" + str((correct / questions) * 100) + \"%\")\n",
    "\n",
    "rsp2 = question_with_response(\"What is a key word commonly used in Python to define a function?\")\n",
    "if rsp2 == \"def\":\n",
    "    correct += 1\n",
    "    print(rsp2 + \" is the right answer, you have a score of \" + str((correct / questions) * 100) + \"%\")\n",
    "else:\n",
    "    print(rsp2 + \" is incorrect, you have a score of \" + str((correct / questions) * 100) + \"%\")\n",
    "\n",
    "rsp3 = question_with_response(\"The three basics of a function are input, '____', and grouping commands?\") # This is Question 3\n",
    "if rsp3 == \"output\":\n",
    "    correct += 1\n",
    "    print(rsp3 + \" is the right answer, you have a score of \" + str((correct / questions) * 100) + \"%\")\n",
    "else:\n",
    "    print(rsp3 + \" is incorrect, you have a score of \" + str((correct / questions) * 100) + \"%\")\n",
    "\n",
    "rsp4 = question_with_response(\"In programming, a '______' is used to define data patterns\") # This is Question 4\n",
    "if rsp4 == \"dictionary\":\n",
    "    correct += 1\n",
    "    print(rsp4 + \" is the right answer, you have a score of \" + str((correct / questions) * 100) + \"%\")\n",
    "else:\n",
    "    print(rsp4 + \" is incorrect, you have a score of \" + str((correct / questions) * 100) + \"%\")\n",
    "\n",
    "rsp5 = question_with_response(\"What is it called when you group a sequence of commands? Hint: This is used very frequently\") # This is Question 5\n",
    "if rsp5 == \"procedural abstraction\":\n",
    "    correct += 1\n",
    "    print(rsp5 + \" is the right answer, you have a score of \" + str((correct / questions) * 100) + \"%\")\n",
    "else:\n",
    "    print(rsp5 + \" is incorrect, you have a score of \" + str((correct / questions) * 100) + \"%\")\n",
    "\n",
    "print(getpass.getuser() + \" you scored \" + str(correct) +\"/\" + str(questions))"
   ]
  },
  {
   "cell_type": "markdown",
   "metadata": {},
   "source": []
  }
 ],
 "metadata": {
  "kernelspec": {
   "display_name": "Python 3.8.10 64-bit",
   "language": "python",
   "name": "python3"
  },
  "language_info": {
   "codemirror_mode": {
    "name": "ipython",
    "version": 3
   },
   "file_extension": ".py",
   "mimetype": "text/x-python",
   "name": "python",
   "nbconvert_exporter": "python",
   "pygments_lexer": "ipython3",
   "version": "3.8.10"
  },
  "orig_nbformat": 4,
  "vscode": {
   "interpreter": {
    "hash": "916dbcbb3f70747c44a77c7bcd40155683ae19c65e1c03b4aa3499c5328201f1"
   }
  }
 },
 "nbformat": 4,
 "nbformat_minor": 2
}
