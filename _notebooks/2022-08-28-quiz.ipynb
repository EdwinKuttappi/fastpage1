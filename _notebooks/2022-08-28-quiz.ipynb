{
 "cells": [
  {
   "cell_type": "markdown",
   "metadata": {},
   "source": [
    "# Welcome to the Quiz\n",
    "\n",
    "Are you ready to take a quiz? This quiz will be regarding the vocabulary from CollegeBoard that is important to know"
   ]
  },
  {
   "cell_type": "code",
   "execution_count": 5,
   "metadata": {},
   "outputs": [
    {
     "name": "stdout",
     "output_type": "stream",
     "text": [
      "Hello, sunny running /bin/python3\n",
      "You will be asked 3 questions.\n",
      "Question: Are you ready to take a test?\n",
      "Answer: no\n",
      "Question: What command is used to include other functions that are developed?\n",
      "import is correct!\n",
      "Question: What command in this example is used to evaluate a response?\n",
      "if is correct!\n",
      "Question: Each 'if' command contains an '_________' to determine a true or false condition?\n",
      "expression is correct!\n",
      "sunny you scored 3/3\n"
     ]
    }
   ],
   "source": [
    "def question_and_answer(prompt): # This part of the code defines the variable question_and_answer\n",
    "    print(\"Question: \" + prompt) # This line of code is printing Question and the prompt after it\n",
    "    msg = input() # This line is setting the message to the user's input\n",
    "    print (\"Answer: \" + msg) # The Code is printing the answer which is the user's message\n",
    "\n",
    "import getpass, sys\n",
    "\n",
    "def question_with_response(prompt): # Defining another variable\n",
    "    print(\"Question: \" + prompt)\n",
    "    msg = input()\n",
    "    return msg\n",
    "\n",
    "questions = 3 # Defining the variable showing that there are 3 questions\n",
    "correct = 0 # Before starting the quiz, this variable is set to 0, but as the user gets a question right, a point is added\n",
    "\n",
    "print('Hello, ' + getpass.getuser() + \" running \" + sys.executable) # Finds the user's data and tells them what they are running\n",
    "print(\"You will be asked \" + str(questions) + \" questions.\") # Telling the user how many questions are on the quiz\n",
    "question_and_answer(\"Are you ready to take a test?\")\n",
    "\n",
    "rsp = question_with_response(\"What command is used to include other functions that are developed?\")\n",
    "if rsp == \"import\": # This checks the user's response and checks if it is import, then it goes through an if statement to determine if the answer is right\n",
    "    print(rsp + \" is correct!\") # If the response is import, then this code will be outputted\n",
    "    correct += 1 # The correct variable gets 1 point added\n",
    "else: # This takes the user's response and checks if it is import, if it is not it will go through an else statement\n",
    "    print(rsp + \" is incorrect!\")\n",
    "\n",
    "rsp2 = question_with_response(\"What command in this example is used to evaluate a response?\")\n",
    "if rsp2 == \"if\":\n",
    "    print(rsp2 + \" is correct!\")\n",
    "    correct += 1\n",
    "else:\n",
    "    print(rsp2 + \" is incorrect!\")\n",
    "\n",
    "rsp3 = question_with_response(\"Each 'if' command contains an '_________' to determine a true or false condition?\") # This is Question 3\n",
    "if rsp3 == \"expression\":\n",
    "    print(rsp3 + \" is correct!\")\n",
    "    correct += 1\n",
    "else:\n",
    "    print(rsp3 + \" is incorrect!\")\n",
    "\n",
    "print(getpass.getuser() + \" you scored \" + str(correct) +\"/\" + str(questions))"
   ]
  },
  {
   "cell_type": "markdown",
   "metadata": {},
   "source": []
  }
 ],
 "metadata": {
  "kernelspec": {
   "display_name": "Python 3.8.10 64-bit",
   "language": "python",
   "name": "python3"
  },
  "language_info": {
   "codemirror_mode": {
    "name": "ipython",
    "version": 3
   },
   "file_extension": ".py",
   "mimetype": "text/x-python",
   "name": "python",
   "nbconvert_exporter": "python",
   "pygments_lexer": "ipython3",
   "version": "3.8.10"
  },
  "orig_nbformat": 4,
  "vscode": {
   "interpreter": {
    "hash": "916dbcbb3f70747c44a77c7bcd40155683ae19c65e1c03b4aa3499c5328201f1"
   }
  }
 },
 "nbformat": 4,
 "nbformat_minor": 2
}
