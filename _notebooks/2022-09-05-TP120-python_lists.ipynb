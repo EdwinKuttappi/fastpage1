{
 "cells": [
  {
   "cell_type": "markdown",
   "metadata": {},
   "source": [
    "# Lists, Dictionaries, Iteration\n",
    "> An proof of knowledge to show how to use Data Abstraction with Python Lists [] and Python Dictionaries {}.\n",
    "\n",
    "- title: Lists, Dictionaries, Iteration, and a Quiz\n",
    "- toc: true\n",
    "- categories: [week2,tri1,lists,dictionaries]\n",
    "- permalink: /collegeboard/python_lists\n",
    "- tags: [python]\n",
    "\n",
    "## This Page has been adapted from the APCSP repository by nighthawkcoders"
   ]
  },
  {
   "cell_type": "markdown",
   "metadata": {},
   "source": [
    "### Lists and Dictionaries\n",
    "As a quick review we used variables in the introduction last week.\n",
    "\n",
    "These examples can show the difference between a primitive and a collection"
   ]
  },
  {
   "cell_type": "code",
   "execution_count": 13,
   "metadata": {},
   "outputs": [
    {
     "name": "stdout",
     "output_type": "stream",
     "text": [
      "What is the variable value, Edwin A\n"
     ]
    }
   ],
   "source": [
    "name = \"Edwin A\"\n",
    "print(\"What is the variable value,\", name)"
   ]
  },
  {
   "cell_type": "code",
   "execution_count": 14,
   "metadata": {},
   "outputs": [
    {
     "name": "stdout",
     "output_type": "stream",
     "text": [
      "Name: Edwin Abraham <class 'str'>\n",
      "age 16 <class 'int'>\n",
      "score 104.1 <class 'float'>\n",
      "Grade Level: 11 <class 'int'>\n",
      "Email: edwinab0007@gmail.com <class 'str'>\n",
      "\n",
      "langs ['Python', 'HTML', 'CSS', 'C', 'R', 'Lua', 'Java'] <class 'list'>\n",
      "- langs[0] HTML <class 'str'>\n",
      "One Language: Java\n",
      "Food: ['Burger', 'Pizza', 'Ice Cream', 'Brownie,', 'Paratha'] <class 'list'>\n",
      "Random Food: Pizza\n",
      "\n",
      "person {'name': 'Edwin Abraham', 'age': 16, 'score': 104.1, 'langs': ['Python', 'HTML', 'CSS', 'C', 'R', 'Lua', 'Java']} <class 'dict'>\n",
      "- person[\"name\"] Edwin Abraham <class 'str'>\n"
     ]
    }
   ],
   "source": [
    "import random\n",
    "\n",
    "# variable of type string\n",
    "name = \"Edwin Abraham\"\n",
    "print(\"Name:\", name, type(name))\n",
    "\n",
    "age = 16 # Integer Type of Variable\n",
    "print(\"age\", age, type(age))\n",
    "\n",
    "score = 104.1 # Float Type of Variable\n",
    "print(\"score\", score, type(score))\n",
    "\n",
    "grade = 11 # Integer Type\n",
    "print (\"Grade Level:\", grade, type(grade))\n",
    "\n",
    "email = \"edwinab0007@gmail.com\"\n",
    "print (\"Email:\", email, type(email))\n",
    "\n",
    "print()\n",
    "\n",
    "# Multiple variables in a single list and printing the whole list\n",
    "langs = [\"Python\", \"HTML\", \"CSS\", \"C\", \"R\", \"Lua\", \"Java\"]\n",
    "random_lang = random.choice(langs)\n",
    "print(\"langs\", langs, type(langs))\n",
    "print(\"- langs[0]\", langs[1], type(langs[1]))\n",
    "print (\"One Language:\", random_lang)\n",
    "\n",
    "foods = [\"Burger\", \"Pizza\", \"Ice Cream\", \"Brownie,\", \"Paratha\"]\n",
    "random_car = random.choice(foods)\n",
    "print(\"Food:\", foods, type(foods) )\n",
    "print(\"Random Food:\", random_car)\n",
    "\n",
    "print()\n",
    "\n",
    "# variable of type dictionary (a group of keys and values)\n",
    "person = { # Variable used later and helps store the data\n",
    "    \"name\": name,\n",
    "    \"age\": age,\n",
    "    \"grade\": grade,\n",
    "    \"Language\": langs\n",
    "    \"Email\": email\n",
    "}\n",
    "print(\"person\", person, type(person))\n",
    "print('- person[\"name\"]', person[\"name\"], type(person[\"name\"]))\n"
   ]
  },
  {
   "cell_type": "markdown",
   "metadata": {},
   "source": [
    "### List and Dictionary purpose\n",
    "A Dictionary is used for defining patterns while a List is to have many different variables\n",
    "\n",
    "To start exploring more deeply into List, Dictionary. and Iteration we can construct a list about food and people."
   ]
  },
  {
   "cell_type": "code",
   "execution_count": 21,
   "metadata": {},
   "outputs": [
    {
     "name": "stdout",
     "output_type": "stream",
     "text": [
      "\n",
      "\n",
      "[{'FirstName': 'Edwin', 'LastName': 'Abraham', 'DOB': 'August 7', 'Residence': 'San Diego', 'Email': 'edwinab0007@gmail.com', 'Hobbies': ['Biking', 'Hiking', 'Playing Video Games'], 'Food': ['Burgers', 'Pizza', 'Brownies', 'Watermelon']}, {'FirstName': 'Emaad', 'LastName': 'Mir', 'DOB': 'January 12', 'Residence': 'San Diego', 'Email': 'emaadidrismir@gmail.com', 'Hobbies': ['Playing Squash', 'Sleeping', 'Hiking', 'Cooking', 'Playing Basketball'], 'Food': ['French Fries', 'Ice Cream', 'Bananas', 'Pizza']}]\n"
     ]
    }
   ],
   "source": [
    "# Define an empty List called InfoDb for later\n",
    "InfoDb = []\n",
    "\n",
    "# This is a list about my information and gives a list of this\n",
    "InfoDb.append({\n",
    "    \"FirstName\": \"Edwin\",\n",
    "    \"LastName\": \"Abraham\",\n",
    "    \"DOB\": \"August 7\",\n",
    "    \"Residence\": \"San Diego\",\n",
    "    \"Email\": \"edwinab0007@gmail.com\",\n",
    "    \"Hobbies\": [\"Biking\",\"Hiking\", \"Playing Video Games\"],\n",
    "    \"Food\": [\"Burgers\", \"Pizza\", \"Brownies\", \"Watermelon\"]\n",
    "})\n",
    "\n",
    "print()\n",
    "print()\n",
    "\n",
    "# This is another list about my partner in coding who is Emaad Mir\n",
    "InfoDb.append({ # This bracket includes everything until the closed bracket\n",
    "    \"FirstName\": \"Emaad\",\n",
    "    \"LastName\": \"Mir\",\n",
    "    \"DOB\": \"January 12\",\n",
    "    \"Residence\": \"San Diego\",\n",
    "    \"Email\": \"emaadidrismir@gmail.com\",\n",
    "    \"Hobbies\": [\"Playing Squash\", \"Sleeping\", \"Hiking\", \"Cooking\", \"Playing Basketball\"],\n",
    "    \"Food\": [\"French Fries\", \"Ice Cream\", \"Bananas\", \"Pizza\"],\n",
    "})\n",
    "\n",
    "# Prints the data structure\n",
    "print(InfoDb)"
   ]
  },
  {
   "cell_type": "markdown",
   "metadata": {},
   "source": [
    "### Using the For Loops\n",
    "\n",
    "We will use the data and variables that are already in the notebook and just use the variable to print the list"
   ]
  },
  {
   "cell_type": "code",
   "execution_count": 13,
   "metadata": {},
   "outputs": [
    {
     "ename": "IndexError",
     "evalue": "list index out of range",
     "output_type": "error",
     "traceback": [
      "\u001b[0;31m---------------------------------------------------------------------------\u001b[0m",
      "\u001b[0;31mIndexError\u001b[0m                                Traceback (most recent call last)",
      "\u001b[1;32m/home/sunny/vscode/fastpage1/_notebooks/2022-09-03-TP120-python_lists.ipynb Cell 8\u001b[0m in \u001b[0;36m<cell line: 9>\u001b[0;34m()\u001b[0m\n\u001b[1;32m      <a href='vscode-notebook-cell://wsl%2Bubuntu/home/sunny/vscode/fastpage1/_notebooks/2022-09-03-TP120-python_lists.ipynb#X10sdnNjb2RlLXJlbW90ZQ%3D%3D?line=5'>6</a>\u001b[0m     \u001b[39mprint\u001b[39m(\u001b[39m\"\u001b[39m\u001b[39mHobbies:\u001b[39m\u001b[39m\"\u001b[39m, \u001b[39m\"\u001b[39m\u001b[39m, \u001b[39m\u001b[39m\"\u001b[39m\u001b[39m.\u001b[39mjoin(person[\u001b[39m\"\u001b[39m\u001b[39mHobbies\u001b[39m\u001b[39m\"\u001b[39m]))\n\u001b[1;32m      <a href='vscode-notebook-cell://wsl%2Bubuntu/home/sunny/vscode/fastpage1/_notebooks/2022-09-03-TP120-python_lists.ipynb#X10sdnNjb2RlLXJlbW90ZQ%3D%3D?line=6'>7</a>\u001b[0m     \u001b[39mprint\u001b[39m()\n\u001b[0;32m----> <a href='vscode-notebook-cell://wsl%2Bubuntu/home/sunny/vscode/fastpage1/_notebooks/2022-09-03-TP120-python_lists.ipynb#X10sdnNjb2RlLXJlbW90ZQ%3D%3D?line=8'>9</a>\u001b[0m print_data(InfoDb[\u001b[39m0\u001b[39;49m]) \u001b[39m#This prints the variable with information from my data\u001b[39;00m\n\u001b[1;32m     <a href='vscode-notebook-cell://wsl%2Bubuntu/home/sunny/vscode/fastpage1/_notebooks/2022-09-03-TP120-python_lists.ipynb#X10sdnNjb2RlLXJlbW90ZQ%3D%3D?line=9'>10</a>\u001b[0m print_data(InfoDb[\u001b[39m1\u001b[39m])\n",
      "\u001b[0;31mIndexError\u001b[0m: list index out of range"
     ]
    }
   ],
   "source": [
    "def data(person):\n",
    "    print(\"Name:\", person[\"FirstName\"], person[\"LastName\"])\n",
    "    print(\"Birthday:\", person[\"DOB\"])\n",
    "    print(\"Email:\", person[\"Email\"])\n",
    "    print(\"Foods:\", \", \".join(person[\"Food\"]))\n",
    "    print(\"Hobbies:\", \", \".join(person[\"Hobbies\"]))\n",
    "    print()\n",
    "\n",
    "print_data(InfoDb[0]) #This prints the variable with information from my data\n",
    "print_data(InfoDb[1]) #This prints the code and the data from the previous lines from Emaad's data"
   ]
  },
  {
   "cell_type": "code",
   "execution_count": 9,
   "metadata": {},
   "outputs": [
    {
     "name": "stdout",
     "output_type": "stream",
     "text": [
      "For loop output\n",
      "\n",
      "John Mortensen\n",
      "\t Residence: San Diego\n",
      "\t Birth Day: October 21\n",
      "\t Cars: 2015-Fusion, 2011-Ranger, 2003-Excursion, 1997-F350, 1969-Cadillac\n",
      "\n",
      "Sunny Naidu\n",
      "\t Residence: Temecula\n",
      "\t Birth Day: August 2\n",
      "\t Cars: 4Runner\n",
      "\n"
     ]
    }
   ],
   "source": [
    "# given and index this will print InfoDb content\n",
    "def print_data(d_rec):\n",
    "    print(d_rec[\"FirstName\"], d_rec[\"LastName\"])  # using comma puts space between values\n",
    "    print(\"\\t\", \"Residence:\", d_rec[\"Residence\"]) # \\t is a tab indent\n",
    "    print(\"\\t\", \"Birth Day:\", d_rec[\"DOB\"])\n",
    "    print(\"\\t\", \"Cars: \", end=\"\")  # end=\"\" make sure no return occurs\n",
    "    print(\", \".join(d_rec[\"Owns_Cars\"]))  # join allows printing a string list with separator\n",
    "    print()\n",
    "\n",
    "\n",
    "# for loop iterates on length of InfoDb\n",
    "def for_loop():\n",
    "    print(\"For loop output\\n\")\n",
    "    for record in InfoDb:\n",
    "        print_data(record)\n",
    "\n",
    "for_loop()"
   ]
  },
  {
   "cell_type": "markdown",
   "metadata": {},
   "source": [
    "### Alternate methods for iteration - while loop\n",
    "In coding, there are usually many ways to achieve the same result.  Defined are functions illustrating using index to reference records in a list, these methods are called a \"while\" loop and \"recursion\".\n",
    "- The while_loop() function contains a while loop, \"while i < len(InfoDb):\".  This counts through the elements in the list start at zero, and passes the record to print_data()"
   ]
  },
  {
   "cell_type": "code",
   "execution_count": null,
   "metadata": {},
   "outputs": [],
   "source": [
    "# while loop contains an initial n and an index incrementing statement (n += 1)\n",
    "def while_loop():\n",
    "    print(\"While loop output\\n\")\n",
    "    i = 0\n",
    "    while i < len(InfoDb):\n",
    "        record = InfoDb[i]\n",
    "        print_data(record)\n",
    "        i += 1\n",
    "    return\n",
    "\n",
    "while_loop()"
   ]
  },
  {
   "cell_type": "markdown",
   "metadata": {},
   "source": [
    "### Calling a function repeatedly - recursion\n",
    "This final technique achieves looping by calling itself repeatedly.\n",
    "- recursive_loop(i) function is primed with the value 0 on its activation with \"recursive_loop(0)\"\n",
    "- the last statement indented inside the if statement \"recursive_loop(i + 1)\" activates another call to the recursive_loop(i) function, each time i is increasing\n",
    "- ultimately the \"if i < len(InfoDb):\" will evaluate to false and the program ends"
   ]
  },
  {
   "cell_type": "code",
   "execution_count": null,
   "metadata": {},
   "outputs": [],
   "source": [
    "# recursion simulates loop incrementing on each call (n + 1) until exit condition is met\n",
    "def recursive_loop(i):\n",
    "    if i < len(InfoDb):\n",
    "        record = InfoDb[i]\n",
    "        print_data(record)\n",
    "        recursive_loop(i + 1)\n",
    "    return\n",
    "    \n",
    "print(\"Recursive loop output\\n\")\n",
    "recursive_loop(0)"
   ]
  },
  {
   "cell_type": "markdown",
   "metadata": {},
   "source": [
    "## Hacks\n",
    "- Add a couple of records to the InfoDb\n",
    "- Try to do a for loop with an index\n",
    "- Pair Share code somethings creative or unique, with loops and data. Hints...\n",
    "    - Would it be possible to output data in a reverse order?\n",
    "    - Are there other methods that can be performed on lists?\n",
    "    - Could you create new or add to dictionary data set?  Could you do it with input?\n",
    "    - Make a quiz that stores in a List of Dictionaries."
   ]
  }
 ],
 "metadata": {
  "kernelspec": {
   "display_name": "Python 3.8.10 64-bit",
   "language": "python",
   "name": "python3"
  },
  "language_info": {
   "codemirror_mode": {
    "name": "ipython",
    "version": 3
   },
   "file_extension": ".py",
   "mimetype": "text/x-python",
   "name": "python",
   "nbconvert_exporter": "python",
   "pygments_lexer": "ipython3",
   "version": "3.8.10"
  },
  "orig_nbformat": 4,
  "vscode": {
   "interpreter": {
    "hash": "916dbcbb3f70747c44a77c7bcd40155683ae19c65e1c03b4aa3499c5328201f1"
   }
  }
 },
 "nbformat": 4,
 "nbformat_minor": 2
}
