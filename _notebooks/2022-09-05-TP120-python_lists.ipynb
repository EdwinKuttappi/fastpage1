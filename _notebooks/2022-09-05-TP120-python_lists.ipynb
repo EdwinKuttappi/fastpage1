{
 "cells": [
  {
   "cell_type": "markdown",
   "metadata": {},
   "source": [
    "# Lists, Dictionaries, Iteration\n",
    "> An proof of knowledge to show how to use Data Abstraction with Python Lists [] and Python Dictionaries {}.\n",
    "\n",
    "- title: Lists, Dictionaries, Iteration, and a Quiz\n",
    "- toc: true\n",
    "- categories: [week2,tri1,lists,dictionaries]\n",
    "- permalink: /collegeboard/python_lists\n",
    "- tags: [python]\n",
    "\n",
    "## This Page has been adapted from the APCSP repository by nighthawkcoders"
   ]
  },
  {
   "cell_type": "markdown",
   "metadata": {},
   "source": [
    "### Lists and Dictionaries\n",
    "As a quick review we used variables in the introduction last week.\n",
    "\n",
    "These examples can show the difference between a primitive and a collection"
   ]
  },
  {
   "cell_type": "code",
   "execution_count": 6,
   "metadata": {},
   "outputs": [
    {
     "name": "stdout",
     "output_type": "stream",
     "text": [
      "What is the variable value, Edwin A\n"
     ]
    }
   ],
   "source": [
    "name = \"Edwin A\"\n",
    "print(\"What is the variable value,\", name)"
   ]
  },
  {
   "cell_type": "code",
   "execution_count": 7,
   "metadata": {},
   "outputs": [
    {
     "name": "stdout",
     "output_type": "stream",
     "text": [
      "Name: Edwin Abraham <class 'str'>\n",
      "age 16 <class 'int'>\n",
      "score 104.1 <class 'float'>\n",
      "Grade Level: 11 <class 'int'>\n",
      "Email: edwinab0007@gmail.com <class 'str'>\n",
      "\n",
      "langs ['Python', 'HTML', 'CSS', 'C', 'R', 'Lua', 'Java'] <class 'list'>\n",
      "- langs[0] HTML <class 'str'>\n",
      "One Language: C\n",
      "Food: ['Burger', 'Pizza', 'Ice Cream', 'Brownie,', 'Paratha'] <class 'list'>\n",
      "Random Food: Pizza\n",
      "\n",
      "person {'name': 'Edwin Abraham', 'age': 16, 'grade': 11, 'Language': ['Python', 'HTML', 'CSS', 'C', 'R', 'Lua', 'Java'], 'Email': 'edwinab0007@gmail.com'} <class 'dict'>\n",
      "- person[\"name\"] Edwin Abraham <class 'str'>\n"
     ]
    }
   ],
   "source": [
    "import random\n",
    "\n",
    "# variable of type string\n",
    "name = \"Edwin Abraham\"\n",
    "print(\"Name:\", name, type(name))\n",
    "\n",
    "age = 16 # Integer Type of Variable\n",
    "print(\"age\", age, type(age))\n",
    "\n",
    "score = 104.1 # Float Type of Variable\n",
    "print(\"score\", score, type(score))\n",
    "\n",
    "grade = 11 # Integer Type\n",
    "print (\"Grade Level:\", grade, type(grade))\n",
    "\n",
    "email = \"edwinab0007@gmail.com\"\n",
    "print (\"Email:\", email, type(email))\n",
    "\n",
    "print()\n",
    "\n",
    "# Multiple variables in a single list and printing the whole list\n",
    "langs = [\"Python\", \"HTML\", \"CSS\", \"C\", \"R\", \"Lua\", \"Java\"]\n",
    "random_lang = random.choice(langs)\n",
    "print(\"langs\", langs, type(langs))\n",
    "print(\"- langs[0]\", langs[1], type(langs[1]))\n",
    "print (\"One Language:\", random_lang)\n",
    "\n",
    "foods = [\"Burger\", \"Pizza\", \"Ice Cream\", \"Brownie,\", \"Paratha\"]\n",
    "random_car = random.choice(foods)\n",
    "print(\"Food:\", foods, type(foods) )\n",
    "print(\"Random Food:\", random_car)\n",
    "\n",
    "print()\n",
    "\n",
    "# variable of type dictionary (a group of keys and values)\n",
    "person = { # Variable used later and helps store the data\n",
    "    \"name\": name,\n",
    "    \"age\": age,\n",
    "    \"grade\": grade,\n",
    "    \"Language\": langs,\n",
    "    \"Email\": email\n",
    "}\n",
    "print(\"person\", person, type(person))\n",
    "print('- person[\"name\"]', person[\"name\"], type(person[\"name\"]))\n"
   ]
  },
  {
   "cell_type": "markdown",
   "metadata": {},
   "source": [
    "### List and Dictionary purpose\n",
    "A Dictionary is used for defining patterns while a List is to have many different variables\n",
    "\n",
    "To start exploring more deeply into List, Dictionary. and Iteration we can construct a list about food and people."
   ]
  },
  {
   "cell_type": "code",
   "execution_count": 8,
   "metadata": {},
   "outputs": [
    {
     "name": "stdout",
     "output_type": "stream",
     "text": [
      "\n",
      "\n",
      "[{'FirstName': 'Edwin', 'LastName': 'Abraham', 'DOB': 'August 7', 'Residence': 'San Diego', 'Email': 'edwinab0007@gmail.com', 'Hobbies': ['Biking', 'Hiking', 'Playing Video Games'], 'Food': ['Burgers', 'Pizza', 'Brownies', 'Watermelon']}, {'FirstName': 'Emaad', 'LastName': 'Mir', 'DOB': 'January 12', 'Residence': 'San Diego', 'Email': 'emaadidrismir@gmail.com', 'Hobbies': ['Playing Squash', 'Sleeping', 'Hiking', 'Cooking', 'Playing Basketball'], 'Food': ['French Fries', 'Ice Cream', 'Bananas', 'Pizza']}]\n"
     ]
    }
   ],
   "source": [
    "# Define an empty List called InfoDb for later\n",
    "InfoDb = []\n",
    "\n",
    "# This is a list about my information and gives a list of this\n",
    "InfoDb.append({\n",
    "    \"FirstName\": \"Edwin\",\n",
    "    \"LastName\": \"Abraham\",\n",
    "    \"DOB\": \"August 7\",\n",
    "    \"Residence\": \"San Diego\",\n",
    "    \"Email\": \"edwinab0007@gmail.com\",\n",
    "    \"Hobbies\": [\"Biking\",\"Hiking\", \"Playing Video Games\"],\n",
    "    \"Food\": [\"Burgers\", \"Pizza\", \"Brownies\", \"Watermelon\"]\n",
    "})\n",
    "\n",
    "print()\n",
    "print()\n",
    "\n",
    "# This is another list about my partner in coding who is Emaad Mir\n",
    "InfoDb.append({ # This bracket includes everything until the closed bracket\n",
    "    \"FirstName\": \"Emaad\",\n",
    "    \"LastName\": \"Mir\",\n",
    "    \"DOB\": \"January 12\",\n",
    "    \"Residence\": \"San Diego\",\n",
    "    \"Email\": \"emaadidrismir@gmail.com\",\n",
    "    \"Hobbies\": [\"Playing Squash\", \"Sleeping\", \"Hiking\", \"Cooking\", \"Playing Basketball\"],\n",
    "    \"Food\": [\"French Fries\", \"Ice Cream\", \"Bananas\", \"Pizza\"],\n",
    "})\n",
    "\n",
    "# Prints the data structure\n",
    "print(InfoDb)"
   ]
  },
  {
   "cell_type": "code",
   "execution_count": 9,
   "metadata": {},
   "outputs": [
    {
     "name": "stdout",
     "output_type": "stream",
     "text": [
      "Name: Edwin Abraham\n",
      "Birthday: August 7\n",
      "Email: edwinab0007@gmail.com\n",
      "Foods: Burgers, Pizza, Brownies, Watermelon\n",
      "Hobbies: Biking, Hiking, Playing Video Games\n",
      "\n",
      "Name: Emaad Mir\n",
      "Birthday: January 12\n",
      "Email: emaadidrismir@gmail.com\n",
      "Foods: French Fries, Ice Cream, Bananas, Pizza\n",
      "Hobbies: Playing Squash, Sleeping, Hiking, Cooking, Playing Basketball\n",
      "\n"
     ]
    }
   ],
   "source": [
    "def print_data(person):\n",
    "    print(\"Name:\", person[\"FirstName\"], person[\"LastName\"])\n",
    "    print(\"Birthday:\", person[\"DOB\"])\n",
    "    print(\"Email:\", person[\"Email\"])\n",
    "    print(\"Foods:\", \", \".join(person[\"Food\"]))\n",
    "    print(\"Hobbies:\", \", \".join(person[\"Hobbies\"]))\n",
    "    print()\n",
    "\n",
    "print_data(InfoDb[0]) #This prints the variable with information from my data\n",
    "print_data(InfoDb[1]) #This prints the code and the data from the previous lines from Emaad's data"
   ]
  },
  {
   "cell_type": "markdown",
   "metadata": {},
   "source": [
    "### Using the For Loops\n",
    "\n",
    "We will use the data and variables that are already in the notebook and just use the variable to print the list"
   ]
  },
  {
   "cell_type": "code",
   "execution_count": 10,
   "metadata": {},
   "outputs": [
    {
     "name": "stdout",
     "output_type": "stream",
     "text": [
      "REGULAR FOR LOOP OUTPUT\n",
      "\n",
      "Name: Edwin Abraham\n",
      "Birthday: August 7\n",
      "Email: edwinab0007@gmail.com\n",
      "Foods: Burgers, Pizza, Brownies, Watermelon\n",
      "Hobbies: Biking, Hiking, Playing Video Games\n",
      "\n",
      "Name: Emaad Mir\n",
      "Birthday: January 12\n",
      "Email: emaadidrismir@gmail.com\n",
      "Foods: French Fries, Ice Cream, Bananas, Pizza\n",
      "Hobbies: Playing Squash, Sleeping, Hiking, Cooking, Playing Basketball\n",
      "\n",
      "FOR LOOP WITH INDEX OUTPUT\n",
      "\n",
      "Name: Edwin Abraham\n",
      "Birthday: August 7\n",
      "Email: edwinab0007@gmail.com\n",
      "Foods: Burgers, Pizza, Brownies, Watermelon\n",
      "Hobbies: Biking, Hiking, Playing Video Games\n",
      "\n",
      "Name: Emaad Mir\n",
      "Birthday: January 12\n",
      "Email: emaadidrismir@gmail.com\n",
      "Foods: French Fries, Ice Cream, Bananas, Pizza\n",
      "Hobbies: Playing Squash, Sleeping, Hiking, Cooking, Playing Basketball\n",
      "\n"
     ]
    }
   ],
   "source": [
    "def for_loop():\n",
    "    for person in InfoDb:\n",
    "        print_data(person)\n",
    "\n",
    "def for_loop_with_index():      # prints out data depending on the length of the dictionary it comes from\n",
    "    for i in range(len(InfoDb)):\n",
    "        print_data(InfoDb[i])\n",
    "print(\"Regular For Loop\\n\")\n",
    "for_loop()\n",
    "print(\"Indexed For Loop Output\\n\")\n",
    "for_loop_with_index()"
   ]
  },
  {
   "cell_type": "markdown",
   "metadata": {},
   "source": [
    "### Using a While Loop\n",
    "In coding, there are usually many ways to achieve the same result.  Defined are functions illustrating using index to reference records in a list, these methods are called a \"while\" loop and \"recursion\".\n",
    "- The while_loop() function contains a while loop, \"while i < len(InfoDb):\".  This counts through the elements in the list start at zero, and passes the record to print_data()"
   ]
  },
  {
   "cell_type": "code",
   "execution_count": 11,
   "metadata": {},
   "outputs": [
    {
     "name": "stdout",
     "output_type": "stream",
     "text": [
      "While loop output\n",
      "\n",
      "Name: Edwin Abraham\n",
      "Birthday: August 7\n",
      "Email: edwinab0007@gmail.com\n",
      "Foods: Burgers, Pizza, Brownies, Watermelon\n",
      "Hobbies: Biking, Hiking, Playing Video Games\n",
      "\n",
      "Name: Emaad Mir\n",
      "Birthday: January 12\n",
      "Email: emaadidrismir@gmail.com\n",
      "Foods: French Fries, Ice Cream, Bananas, Pizza\n",
      "Hobbies: Playing Squash, Sleeping, Hiking, Cooking, Playing Basketball\n",
      "\n"
     ]
    }
   ],
   "source": [
    "# while loop contains an initial n and an index incrementing statement (n += 1)\n",
    "def while_loop():\n",
    "    print(\"While loop output\\n\")\n",
    "    i = 0\n",
    "    while i < len(InfoDb):\n",
    "        record = InfoDb[i]\n",
    "        print_data(record)\n",
    "        i += 1\n",
    "    return\n",
    "\n",
    "while_loop()"
   ]
  },
  {
   "cell_type": "markdown",
   "metadata": {},
   "source": [
    "### Calling a function repeatedly - recursion\n",
    "This final technique achieves looping by calling itself repeatedly.\n",
    "- recursive_loop(i) function is primed with the value 0 on its activation with \"recursive_loop(0)\"\n",
    "- the last statement indented inside the if statement \"recursive_loop(i + 1)\" activates another call to the recursive_loop(i) function, each time i is increasing\n",
    "- ultimately the \"if i < len(InfoDb):\" will evaluate to false and the program ends"
   ]
  },
  {
   "cell_type": "code",
   "execution_count": 12,
   "metadata": {},
   "outputs": [
    {
     "name": "stdout",
     "output_type": "stream",
     "text": [
      "Recursive loop output\n",
      "\n",
      "Name: Edwin Abraham\n",
      "Birthday: August 7\n",
      "Email: edwinab0007@gmail.com\n",
      "Foods: Burgers, Pizza, Brownies, Watermelon\n",
      "Hobbies: Biking, Hiking, Playing Video Games\n",
      "\n",
      "Name: Emaad Mir\n",
      "Birthday: January 12\n",
      "Email: emaadidrismir@gmail.com\n",
      "Foods: French Fries, Ice Cream, Bananas, Pizza\n",
      "Hobbies: Playing Squash, Sleeping, Hiking, Cooking, Playing Basketball\n",
      "\n"
     ]
    }
   ],
   "source": [
    "# recursion simulates loop incrementing on each call (n + 1) until exit condition is met\n",
    "def recursive_loop(i):\n",
    "    if i < len(InfoDb):\n",
    "        record = InfoDb[i]\n",
    "        print_data(record)\n",
    "        recursive_loop(i + 1)\n",
    "    return\n",
    "    \n",
    "print(\"Recursive loop output\\n\")\n",
    "recursive_loop(0)"
   ]
  }
 ],
 "metadata": {
  "kernelspec": {
   "display_name": "Python 3.8.10 64-bit",
   "language": "python",
   "name": "python3"
  },
  "language_info": {
   "codemirror_mode": {
    "name": "ipython",
    "version": 3
   },
   "file_extension": ".py",
   "mimetype": "text/x-python",
   "name": "python",
   "nbconvert_exporter": "python",
   "pygments_lexer": "ipython3",
   "version": "3.8.10"
  },
  "orig_nbformat": 4,
  "vscode": {
   "interpreter": {
    "hash": "916dbcbb3f70747c44a77c7bcd40155683ae19c65e1c03b4aa3499c5328201f1"
   }
  }
 },
 "nbformat": 4,
 "nbformat_minor": 2
}
