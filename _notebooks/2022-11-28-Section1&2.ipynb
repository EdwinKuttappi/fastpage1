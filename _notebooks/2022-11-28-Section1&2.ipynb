{
 "cells": [
  {
   "cell_type": "markdown",
   "metadata": {},
   "source": [
    "# Hacks for 3.1 and 3.2\n",
    "\n",
    "- toc: true \n",
    "- title: Homework Assignment for 3.1-2\n",
    "- description: Completing the Hacks given to us for Unit 3, Section 1 and 2.\n",
    "- categories: [week14, tri2]\n",
    "- badges: true\n",
    "- comments: true\n"
   ]
  },
  {
   "cell_type": "markdown",
   "metadata": {},
   "source": [
    "# This Group: Joselyn, Amitha, Naja, and Lina"
   ]
  },
  {
   "cell_type": "markdown",
   "metadata": {},
   "source": [
    "# 1. Your turn to interact, try it now!\n",
    "Modify the list to change the length to 5."
   ]
  },
  {
   "cell_type": "code",
   "execution_count": 10,
   "metadata": {
    "vscode": {
     "languageId": "javascript"
    }
   },
   "outputs": [
    {
     "name": "stdout",
     "output_type": "stream",
     "text": [
      "['Python', 'C++', 'JavaScript', 'HTML', 'Lua']\n"
     ]
    }
   ],
   "source": [
    "languages_list = []\n",
    "languages_list = [\"Python\", \"C++\", \"JavaScript\"]\n",
    "\n",
    "languages_list.append(\"HTML\")\n",
    "languages_list.append(\"Lua\")\n",
    "\n",
    "print(languages_list)"
   ]
  },
  {
   "cell_type": "code",
   "execution_count": 12,
   "metadata": {
    "vscode": {
     "languageId": "javascript"
    }
   },
   "outputs": [
    {
     "name": "stdout",
     "output_type": "stream",
     "text": [
      "['Python', 'C++', 'JavaScript', 'R', 'Lua']\n"
     ]
    }
   ],
   "source": [
    "languages_list = []\n",
    "languages_list = [\"Python\", \"C++\", \"JavaScript\", \"R\", \"Lua\"]\n",
    "\n",
    "print(languages_list)"
   ]
  },
  {
   "cell_type": "markdown",
   "metadata": {},
   "source": [
    "# 2. Change the following code to print out the list.\n"
   ]
  },
  {
   "cell_type": "code",
   "execution_count": 13,
   "metadata": {},
   "outputs": [
    {
     "name": "stdout",
     "output_type": "stream",
     "text": [
      "['Python', 'C++', 'JavaScript', 'R', 'Lua']\n"
     ]
    }
   ],
   "source": [
    "languages_list = []\n",
    "languages_list = [\"Python\", \"C++\", \"JavaScript\"]\n",
    "\n",
    "languages_list_new = []\n",
    "languages_list_new = [\"Python\", \"C++\", \"JavaScript\", \"R\", \"Lua\"]\n",
    "\n",
    "print(languages_list_new)"
   ]
  },
  {
   "cell_type": "markdown",
   "metadata": {},
   "source": [
    "# 3. Change the following code to print out only \"Python\"\n"
   ]
  },
  {
   "cell_type": "code",
   "execution_count": 14,
   "metadata": {
    "vscode": {
     "languageId": "javascript"
    }
   },
   "outputs": [
    {
     "name": "stdout",
     "output_type": "stream",
     "text": [
      "Python\n"
     ]
    }
   ],
   "source": [
    "languages_list = []\n",
    "languages_list = [\"Python\", \"C++\", \"JavaScript\"]\n",
    "\n",
    "print(languages_list[0])"
   ]
  },
  {
   "cell_type": "markdown",
   "metadata": {},
   "source": [
    "# 4. Replace contents/data of listA with contents/data from listB.\n",
    "Print listA out afterward"
   ]
  },
  {
   "cell_type": "code",
   "execution_count": 15,
   "metadata": {
    "vscode": {
     "languageId": "javascript"
    }
   },
   "outputs": [
    {
     "name": "stdout",
     "output_type": "stream",
     "text": [
      "[22, 7, 13]\n"
     ]
    }
   ],
   "source": [
    "listA = []\n",
    "listA = [1, 55, 8, 2, 76]\n",
    "listB = []\n",
    "listB = [22, 7, 13]\n",
    "\n",
    "listA=listB\n",
    "print(listA)"
   ]
  },
  {
   "cell_type": "markdown",
   "metadata": {},
   "source": [
    "# 5. Make 2 lists:\n",
    "- a list of string data\n",
    "- a list of number data\n",
    "- the length of the each list is a minimum of 4 \n",
    "- change the names of the lists"
   ]
  },
  {
   "cell_type": "code",
   "execution_count": 25,
   "metadata": {
    "vscode": {
     "languageId": "javascript"
    }
   },
   "outputs": [
    {
     "name": "stdout",
     "output_type": "stream",
     "text": [
      "['Burger', 'Fries', 'Milkshake', 'Nuggets']\n",
      "[5, 10, 25, 100]\n"
     ]
    }
   ],
   "source": [
    "foodList = [\"Burger\", \"Fries\", \"Milkshake\", \"Nuggets\"]\n",
    "numList = [5, 10, 25, 100]\n",
    "\n",
    "print(foodList)\n",
    "print(numList)"
   ]
  },
  {
   "cell_type": "markdown",
   "metadata": {},
   "source": [
    "# 6. Combine the list to contain all of the data from both lists.\n",
    "<details closed>\n",
    "<summary>Hint!</summary>\n",
    "Use extend or append\n",
    "</details>"
   ]
  },
  {
   "cell_type": "code",
   "execution_count": 28,
   "metadata": {
    "vscode": {
     "languageId": "javascript"
    }
   },
   "outputs": [
    {
     "name": "stdout",
     "output_type": "stream",
     "text": [
      "['Burger', 'Fries', 'Milkshake', 'Nuggets', 5, 10, 25, 100]\n"
     ]
    }
   ],
   "source": [
    "foodList = [\"Burger\", \"Fries\", \"Milkshake\", \"Nuggets\"]\n",
    "numList = [5, 10, 25, 100]\n",
    "\n",
    "foodList.extend(numList)\n",
    "\n",
    "print(foodList)"
   ]
  },
  {
   "cell_type": "markdown",
   "metadata": {},
   "source": [
    "# A Little Bit on Binary\n",
    "- A type of positional number system, with the base of 2 and uses exponents within it.\n",
    "- It is represented in zeroes and ones, each different column, lightbulb, or place representing a different value. From the right it starts as 2^0 which equals 1, then 2^1 = 2, then 2^2 = 4, and so on\n",
    "- It connects with data abstraction because the more complex data, calculating the value, is represented in binary with base of 2, however it is simplified to only show  combinations of the digits zero and one. \n",
    "\n",
    "---"
   ]
  },
  {
   "cell_type": "markdown",
   "metadata": {},
   "source": [
    "# Binary Hacks\n",
    "Convert these binary notation to decimal notation. (the way we normally count)\n",
    "\n",
    "1. The binary number 111.\n",
    "1 + 2 + 4 = 7\n",
    "    <details closed>\n",
    "    <summary>Click for the answer!</summary>\n",
    "        7\n",
    "    </details>\n",
    "---\n",
    "\n",
    "2. The binary number 1011.\n",
    "1 + 2 + 0 + 8 = 11\n",
    "    <details closed>\n",
    "    <summary>Click for the answer!</summary>\n",
    "        11\n",
    "    </details>\n",
    "---\n",
    "\n",
    "3. The binary number 1101011.\n",
    "1 + 2 + 0 + 8 + 0 + 32 + 64 = 107\n",
    "    <details closed>\n",
    "    <summary>Click for the answer!</summary>\n",
    "        107\n",
    "    </details>\n",
    "---\n",
    "Score: 3/3\n",
    "\n",
    "Convert the decimal notation to binary notation. (You can use the Binary Math from Mr. Yeung or the one you have)\n",
    "1. 12 = 0 + 0 + 4 + 8 --> 1100\n",
    "    <details closed>\n",
    "    <summary>Click for the answer!</summary>\n",
    "        1100\n",
    "    </details>\n",
    "---\n",
    "\n",
    "2. 44 = 0 + 0 + 4 + 8 + 0 + 32 --> 101100\n",
    "    <details closed>\n",
    "    <summary>Click for the answer!</summary>\n",
    "        101100\n",
    "    </details>\n",
    "---\n",
    "\n",
    "3. 254 = 0 + 2 + 4 + 8 + 16 + 32 + 64 + 128 --> 11111110\n",
    "    <details closed>\n",
    "    <summary>Click for the answer!</summary>\n",
    "        11111110\n",
    "    </details>\n",
    "--- \t\n",
    "Score: 3/3\n",
    "\n",
    "## Extra Binary Hacks if you changed your bits to 24\n",
    "Convert decimal notation to binary notation. \n",
    "1. 57345 = 1 + 0 + 0 + 0 + 0 + 0 + 0 + 0 + 0 + 0 + 0 + 0 + 0 + 8192 + 16384 + 32768 = 1110000000000001\n",
    "    <details closed>\n",
    "    <summary>Click for the answer!</summary>\n",
    "        1110000000000001\n",
    "    </details>\n",
    "---\n",
    "\n",
    "2. 16777215 = 1 + 2 + 4 + 8 + 16 + 32 + 64 + 128 + 256 + 512 + 1024 + 2048 + 4096 + 8192 + 16384 + 32768 + 65536 + 131072 + 262144 + 524288 + 1048576 + 2097152 + 4194304 + 8388608 = 111111111111111111111111\n",
    "    <details closed>\n",
    "    <summary>Click for the answer!</summary>\n",
    "        111111111111111111111111\n",
    "    </details>\n",
    "---\n",
    "\n",
    "3. 11184810 = 0 + 2 + 0 + 8 + 0 + 32 + 0 + 128 + 0 + 512 + 0 + 2048 + 0 + 8192 + 0 + 32768 + 0 + 131072 + 0 + 524288 + 0 + 2097152 + 0 + 8388608 = 101010101010101010101010\n",
    "    <details closed>\n",
    "    <summary>Click for the answer!</summary>\n",
    "        101010101010101010101010\n",
    "    </details>\n",
    "---\n",
    "Score: 3/3\n",
    "\n",
    "Convert the binary notation to decimal notation\n",
    "1. 101011101010 = 0 + 2 + 0 + 8 + 0 + 32 + 64 + 128 + 0 + 512 + 0 + 2048 = 2794\n",
    "<details closed>\n",
    "    <summary>Click for the answer!</summary>\n",
    "        2794\n",
    "    </details>\n",
    "---\n",
    "\n",
    "2. 10011100000 = 0 + 0 + 0 + 0 + 0 + 32 + 64 + 128 + 0 + 0 + 1024 = 1248\n",
    "    <details closed>\n",
    "    <summary>Click for the answer!</summary>\n",
    "        1248\n",
    "    </details>\n",
    "---\n",
    "\n",
    "3. 110100 10001 01000 = 0 + 0 + 0 + 8 + 0 + 32 + 0 + 0 + 0 + 512 + 0 + 0 + 4096 + 0 + 16384 + 32768 = 53800\n",
    "    <details closed>\n",
    "    <summary>Click for the answer!</summary>\n",
    "        53800\n",
    "    </details>\n",
    "---\n",
    "Score: 3/3"
   ]
  },
  {
   "cell_type": "markdown",
   "metadata": {},
   "source": [
    "# Homework/Hacks\n",
    "\n",
    "**Consider the following code segment:**\n",
    "- scores1 <- [89, 78, 92, 63, 95, 88]\n",
    "- scores2 <- [92, 79, 97, 63]\n",
    "- scores1 <- scores2\n",
    "\n",
    "What are the contents of *scores1* after the code segment is executed?: \n",
    "\n",
    "1. [89, 78, 92, 63, 95, 88]\n",
    "2. [89, 78, 92, 63, 95, 88, 92, 79, 97, 63]\n",
    "3. [92, 79, 97, 63, 89, 78, 92, 63, 95, 88]\n",
    "4. [92, 79, 97, 63]\n",
    "\n",
    "My Answer: 4\n",
    "    \n",
    "<details closed>\n",
    "<summary>Click for the answer!</summary>\n",
    "    4. Because the data is not being appended from scores2 into scores1. \n",
    "</details>\n",
    "\n",
    "--- \n",
    "**Consider the following code segment:**\n",
    "- listA <- [\"Sam\", \"Ann\"]\n",
    "- listB <- [\"Jamal\", \"Tamara\"]\n",
    "- listB <- listA\n",
    "- listA <- listB\n",
    "\n",
    "What are the contents of *listA* after the code segment is executed?\n",
    "\n",
    "1. [\"Sam\", \"Ann\"]\n",
    "2. [\"Jamal\", \"Tamara\"]\n",
    "3. [\"Sam\", \"Ann\", \"Jamal\", \"Tamara\"]\n",
    "4. [\"Jamal\", \"Tamara\", \"Sam\", \"Ann\"]\n",
    "\n",
    "My Answer: 1\n",
    "\n",
    "<details closed>\n",
    "<summary>Click for the answer!</summary>\n",
    "1. Because all of the data from listA \"Sam\" and \"Ann\" replace what is in listB. So if listB replaces what is in listA, \"Sam\" and \"Ann\" will still be the only data in that list. \n",
    "</details>\n",
    "\n",
    "---\n",
    "**What is the length of this list?**\n",
    "[\"Red\", \"Orange\", \"Yellow\", \"Green\", \"Blue\", \"Purple\"]\n",
    "1. 5\n",
    "2. 7\n",
    "3. 6\n",
    "4. 4\n",
    "\n",
    "My Answer: 6\n",
    "\n",
    "<details closed>\n",
    "<summary>Click for the answer!</summary>\n",
    "3. The length of the list is 6. \n",
    "</details>\n",
    "\n",
    "---\n",
    "**What is the index number of \"Purple\" in this list?**\n",
    "[\"Red\", \"Orange\", \"Yellow\", \"Green\", \"Blue\", \"Purple\"]\n",
    "1. 7\n",
    "2. 0\n",
    "3. 6\n",
    "4. 5\n",
    "\n",
    "My Answer: 6\n",
    "Corrections: This is wrong because the computer starts counting at 0, I forgot this and it is supposed to be the 5th one in the list\n",
    "\n",
    "<details closed>\n",
    "<summary>Click for the answer!</summary>\n",
    "4. The index count starts at 0, making \"Red\" 0 and \"Purple\" index 5. \n",
    "</details>\n",
    "\n",
    "---\n",
    "**Which of the following types of data can be stored in a list?**\n",
    "1. Boolean\n",
    "2. String\n",
    "3. Float\n",
    "4. All of the above\n",
    "\n",
    "My Answer: 4\n",
    "\n",
    "<details closed>\n",
    "<summary>Click for the answer!</summary>\n",
    "4. Any type of data can be stored within a list. A list can contain a mix of types of data. \n",
    "</details>\n",
    "\n",
    "---\n",
    "**Which of the following variables is a float?**\n",
    "1. Apples\n",
    "2. -106.2\n",
    "3. 34\n",
    "4. True\n",
    "\n",
    "My Answer: 2\n",
    "\n",
    "<details closed>\n",
    "<summary>Click for the answer!</summary>\n",
    "    2. A float is a decimal number.\n",
    "</details>\n",
    "\n",
    "---\n",
    "**If a list has a length of 24 items, what is the index number of the 17th item?**\n",
    "1. 21\n",
    "2. 17\n",
    "3. 16\n",
    "4. 69\n",
    "\n",
    "My Answer: 3\n",
    "\n",
    "<details closed>\n",
    "<summary>Click for the answer!</summary>\n",
    "    3. An index count starts at 0 so the index number of a variable is one less than it's spot in the length. \n",
    "</details>\n",
    "\n",
    "---\n",
    "**A variable is permanent and cannot be changed later on.** \n",
    "1. True\n",
    "2. False\n",
    "\n",
    "My Answer: 2\n",
    "\n",
    "<details closed>\n",
    "<summary>Click for the answer!</summary>\n",
    "2. False. Variables can be changed later on in the code. \n",
    "</details>\n",
    "\n",
    "---\n",
    "**Which of the following is true about the list?**\n",
    "[\"Apples\", 42.0, \"Bananas\", 0.5, \"Avocado\", -902.2, \"Lychee\", 6.9, \"Orange\", 7.2]\n",
    "\n",
    "1. The list has floats and string variable types.\n",
    "2. The ratio of float variables to string variables is 2:1.\n",
    "3. The length is 9.\n",
    "4. The index of \"Avocado\" is 4.\n",
    "5. All of the above\n",
    "6. 1 and 4\n",
    "7. 1, 3, and 4\n",
    "\n",
    "My Answer: 6\n",
    "\n",
    "<details closed>\n",
    "<summary>Click for the answer!</summary>\n",
    "6. The list has floats or decimals and strings, and the length is 10, the ratio of string to floats is 1:1, and the index number of \"Avocado\" is 4.\n",
    "</details>\n",
    "\n",
    "---\n",
    "\n",
    "Score: 8/9"
   ]
  }
 ],
 "metadata": {
  "kernelspec": {
   "display_name": "Python 3.8.9 64-bit",
   "language": "python",
   "name": "python3"
  },
  "language_info": {
   "codemirror_mode": {
    "name": "ipython",
    "version": 3
   },
   "file_extension": ".py",
   "mimetype": "text/x-python",
   "name": "python",
   "nbconvert_exporter": "python",
   "pygments_lexer": "ipython3",
   "version": "3.8.10"
  },
  "orig_nbformat": 4,
  "vscode": {
   "interpreter": {
    "hash": "31f2aee4e71d21fbe5cf8b01ff0e069b9275f58929596ceb00d14d90e3e16cd6"
   }
  }
 },
 "nbformat": 4,
 "nbformat_minor": 2
}
